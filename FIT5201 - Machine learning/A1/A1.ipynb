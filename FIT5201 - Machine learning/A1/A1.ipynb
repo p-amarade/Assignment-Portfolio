{
 "cells": [
  {
   "cell_type": "markdown",
   "id": "yB-HVGK7cwse",
   "metadata": {
    "id": "yB-HVGK7cwse"
   },
   "source": [
    "**Name : Amarade Punfueng**"
   ]
  },
  {
   "cell_type": "markdown",
   "id": "eef869a6",
   "metadata": {
    "id": "eef869a6"
   },
   "source": [
    "# **Question 1 [KNN Regressor, 5+5=10 Marks]**"
   ]
  },
  {
   "cell_type": "markdown",
   "id": "3fINcfWqbnDy",
   "metadata": {
    "id": "3fINcfWqbnDy"
   },
   "source": [
    "## I Implement a KNN regressor using the scikit-learn conventations, i.e., in a class with the following skeleton ##"
   ]
  },
  {
   "cell_type": "code",
   "execution_count": 1,
   "id": "6e095d3d",
   "metadata": {
    "id": "6e095d3d"
   },
   "outputs": [],
   "source": [
    "from scipy.spatial import KDTree\n",
    "import numpy as np\n",
    "import matplotlib.pyplot as plt\n",
    "#Using the skeleton from Activity 1.1\n",
    "class KnnRegressor:\n",
    "    def __init__(self, k):\n",
    "        self.k = k\n",
    "\n",
    "    def fit(self, x, y):\n",
    "        self.y_train_ = y\n",
    "        self.x_train_kdtree_ = KDTree(x)\n",
    "        return self\n",
    "\n",
    "    def predict(self, x):\n",
    "        _, neighbours = self.x_train_kdtree_.query(x, k=self.k)\n",
    "        neighbours = neighbours.reshape(len(x), self.k)\n",
    "        #Instead of the return mode of the array\n",
    "        #Change to return the mean of the array because it is KNN regressor, not KNN classifier\n",
    "        Mean = []\n",
    "        for i in range(len(self.y_train_[neighbours])):\n",
    "            y_mean = np.mean(self.y_train_[neighbours][i])\n",
    "            Mean.append(y_mean)\n",
    "        return Mean"
   ]
  },
  {
   "cell_type": "markdown",
   "id": "428800d1",
   "metadata": {
    "id": "428800d1"
   },
   "source": [
    "## II To test your implementation, load the datasets diabetes and california housing through the functions load diabetes and fetch california housing, both of which are available in the module sklearn.datasets. \n",
    "\n",
    "For both datasets, perform a training/test split (using a fraction of 0.6 of the data as training data), fit your KNN regressor to the training portion (using some guess for a good value of k), and report the training and test errors."
   ]
  },
  {
   "cell_type": "code",
   "execution_count": 2,
   "id": "f125a5de",
   "metadata": {
    "id": "f125a5de"
   },
   "outputs": [],
   "source": [
    "#Using the code from Activity 1.1\n",
    "def train_test_split_activity(x, y, train_size=0.6, random_state=None):\n",
    "    RNG = np.random.default_rng(random_state)\n",
    "    N = len(x)\n",
    "    N_train = round(N*train_size)\n",
    "    idx_train = RNG.choice(N, N_train, replace=False)\n",
    "    idx_test = np.setdiff1d(np.arange(N), idx_train)\n",
    "    RNG.shuffle(idx_test)\n",
    "    #Assign the random index to the X_train/test and Y_train/test   \n",
    "    x_train = x[idx_train]\n",
    "    x_test = x[idx_test]\n",
    "    y_train = y[idx_train]\n",
    "    y_test = y[idx_test]\n",
    "    return x_train,x_test,y_train,y_test"
   ]
  },
  {
   "cell_type": "markdown",
   "id": "BrBCIZe-PMc1",
   "metadata": {
    "id": "BrBCIZe-PMc1"
   },
   "source": [
    "Load the datasets diabetes and california housing through the functions load diabetes and fetch california housing"
   ]
  },
  {
   "cell_type": "code",
   "execution_count": 3,
   "id": "5cb74bca",
   "metadata": {
    "id": "5cb74bca"
   },
   "outputs": [],
   "source": [
    "#Load the diabetes and California dataset\n",
    "from sklearn.datasets import load_diabetes\n",
    "from sklearn.datasets import fetch_california_housing\n",
    "diabetes = load_diabetes()\n",
    "california_housing = fetch_california_housing()"
   ]
  },
  {
   "cell_type": "markdown",
   "id": "X7GS8Z0OPUNd",
   "metadata": {
    "id": "X7GS8Z0OPUNd"
   },
   "source": [
    "For both datasets, perform a training/test split (using a fraction of 0.6 of the data as training data)"
   ]
  },
  {
   "cell_type": "code",
   "execution_count": 4,
   "id": "1405dc12",
   "metadata": {
    "id": "1405dc12"
   },
   "outputs": [],
   "source": [
    "#Split the dataset to be 0.6 of train size\n",
    "x_train, x_test, y_train, y_test = train_test_split_activity(diabetes.data, diabetes.target, train_size=0.6, random_state=0)"
   ]
  },
  {
   "cell_type": "markdown",
   "id": "ZbtO_w9CPeFi",
   "metadata": {
    "id": "ZbtO_w9CPeFi"
   },
   "source": [
    "Fit your KNN regressor to the training portion (using some guess for a good value of k), and report the training and test errors."
   ]
  },
  {
   "cell_type": "code",
   "execution_count": 5,
   "id": "mWcyjgtzPfmt",
   "metadata": {
    "id": "mWcyjgtzPfmt"
   },
   "outputs": [],
   "source": [
    "#Select k= 5 for KnnRegressor for guessing good value of K\n",
    "knn = KnnRegressor(5)\n",
    "knn.fit(x_train, y_train)\n",
    "y_hat_test = knn.predict(x_test)\n",
    "y_hat_train = knn.predict(x_train)"
   ]
  },
  {
   "cell_type": "code",
   "execution_count": 6,
   "id": "i31_CqIngyco",
   "metadata": {
    "colab": {
     "base_uri": "https://localhost:8080/"
    },
    "id": "i31_CqIngyco",
    "outputId": "3d3710ad-0ed3-4448-b8bc-d515e39d860b"
   },
   "outputs": [
    {
     "name": "stdout",
     "output_type": "stream",
     "text": [
      "Diabetes training error (RMSE): 53.13487999137772\n",
      "Diabetes testing error (RMSE): 58.690674337898756\n"
     ]
    }
   ],
   "source": [
    "def error_rate(y, y_hat):\n",
    "    rmse = np.sqrt(np.mean((y - y_hat)**2))\n",
    "    return rmse\n",
    "#Report the training and testing error \n",
    "#Using RMSE to understand the error because the RMSE have the same metric with Y\n",
    "print(\"Diabetes training error (RMSE):\" , error_rate(y_train, y_hat_train))\n",
    "print(\"Diabetes testing error (RMSE):\" , error_rate(y_test, y_hat_test))"
   ]
  },
  {
   "cell_type": "markdown",
   "id": "7a1d4f66",
   "metadata": {
    "id": "7a1d4f66"
   },
   "source": [
    "California_housing "
   ]
  },
  {
   "cell_type": "code",
   "execution_count": 7,
   "id": "808ad630",
   "metadata": {
    "id": "808ad630"
   },
   "outputs": [],
   "source": [
    "#Split the dataset to be 0.6 of train size\n",
    "x_train, x_test, y_train, y_test = train_test_split_activity(california_housing.data, california_housing.target, train_size=0.6, random_state=0)\n",
    "#Select k= 5 for KnnRegressor for guessing good value of K\n",
    "knn = KnnRegressor(5)\n",
    "knn.fit(x_train, y_train)\n",
    "y_hat_train = knn.predict(x_train)\n",
    "y_hat_test = knn.predict(x_test)"
   ]
  },
  {
   "cell_type": "code",
   "execution_count": 8,
   "id": "4cf7be4a",
   "metadata": {
    "colab": {
     "base_uri": "https://localhost:8080/"
    },
    "id": "4cf7be4a",
    "outputId": "50443c5c-44dd-4c79-b372-458507caa2a0"
   },
   "outputs": [
    {
     "name": "stdout",
     "output_type": "stream",
     "text": [
      "California_housing  training error (RMSE): 0.8764807016246337\n",
      "California_housing  testing error (RMSE): 1.0827492069344993\n"
     ]
    }
   ],
   "source": [
    "#Report the training and testing error\n",
    "#Using RMSE to understand the error because the RMSE have the same metric with Y\n",
    "print(\"California_housing  training error (RMSE):\" , error_rate(y_train, y_hat_train))\n",
    "print(\"California_housing  testing error (RMSE):\" , error_rate(y_test, y_hat_test))"
   ]
  },
  {
   "cell_type": "markdown",
   "id": "Wbm7Qs0zZUeR",
   "metadata": {
    "id": "Wbm7Qs0zZUeR"
   },
   "source": [
    "\n",
    "\n",
    "---\n",
    "\n"
   ]
  },
  {
   "cell_type": "markdown",
   "id": "9d702ee9",
   "metadata": {
    "id": "9d702ee9"
   },
   "source": [
    "# **Question 2 [L-fold Cross Validation, 5+5+5=15 Marks]**"
   ]
  },
  {
   "cell_type": "markdown",
   "id": "ctGY5rribsr_",
   "metadata": {
    "id": "ctGY5rribsr_"
   },
   "source": [
    "## I Implement a L-Fold Cross Validation (CV) scheme using the scikit-learn convention for data splitters, i.e., using the following skeleton.\n"
   ]
  },
  {
   "cell_type": "code",
   "execution_count": 9,
   "id": "l-rQGzIHZUlx",
   "metadata": {
    "id": "l-rQGzIHZUlx"
   },
   "outputs": [],
   "source": [
    "#Using skeleton from Activity 1.2\n",
    "class LFold:\n",
    "    def __init__(self, reps, random_state=0):\n",
    "        self.reps = reps\n",
    "        self.random_state = random_state\n",
    "        self.RNG = np.random.default_rng(self.random_state)\n",
    "\n",
    "    def get_n_splits(self):\n",
    "        return self.reps\n",
    "#Refer https://scikit-learn.org/stable/modules/cross_validation.html\n",
    "    def split(self, x, y=None, groups=None):        \n",
    "        all_data = len(x)\n",
    "        reps = self.reps\n",
    "        #fold_size = number of dataset/reps\n",
    "        fold_size = all_data // reps\n",
    "        #Place the index of dataset in placeholder list\n",
    "        placeholder = []\n",
    "        for i in range(all_data):\n",
    "            placeholder.append(i)\n",
    "        #Shuffle index in placeholder Example [4, 6, 7, 2,0, 3, 5, 10,5, 10, 9]\n",
    "        self.RNG.shuffle(placeholder)\n",
    "        #Create dataset from each_fold\n",
    "        each_fold = []\n",
    "\n",
    "        #Find modulo by All data % reps\n",
    "        modulo = all_data % reps\n",
    "        for i in range(reps):\n",
    "          #Modulo still more than 1\n",
    "            if modulo >0 :\n",
    "                #identify number of test size array            \n",
    "                test_size = all_data // reps+1\n",
    "                #Append the test size array into each_fold list\n",
    "                each_fold.append(placeholder[i*test_size:(i+1)*test_size])\n",
    "                #Reduce the modulo\n",
    "                modulo = modulo-1\n",
    "            else:\n",
    "                each_fold.append(placeholder[i*fold_size:(i+1)*fold_size])\n",
    "        #Example Result [[4, 6, 7, 2], [0, 3, 5, 10], [5, 10, 9]]        \n",
    "\n",
    "        for fold_idx in range(reps):\n",
    "            #identify test set by index 0 ->1 -> 2 and so on\n",
    "            test_idx = each_fold[fold_idx]\n",
    "            #Identify train set by exclude the test set\n",
    "            train_idx = np.concatenate(each_fold[:fold_idx] + each_fold[fold_idx+1:])\n",
    "            yield train_idx, test_idx\n"
   ]
  },
  {
   "cell_type": "markdown",
   "id": "0149f7e4",
   "metadata": {
    "id": "0149f7e4"
   },
   "source": [
    "Test your implementation for correctness by running a simple example like the following."
   ]
  },
  {
   "cell_type": "code",
   "execution_count": 10,
   "id": "caf001a8",
   "metadata": {
    "colab": {
     "base_uri": "https://localhost:8080/"
    },
    "id": "caf001a8",
    "outputId": "c890ccca-e9b0-4a41-b673-6600e71b9c8b"
   },
   "outputs": [
    {
     "name": "stdout",
     "output_type": "stream",
     "text": [
      "[13 16  3 11 10  8  0 12  7  5 18 17 14  9  1 15] [4, 19, 6, 2]\n",
      "[ 4 19  6  2 10  8  0 12  7  5 18 17 14  9  1 15] [13, 16, 3, 11]\n",
      "[ 4 19  6  2 13 16  3 11  7  5 18 17 14  9  1 15] [10, 8, 0, 12]\n",
      "[ 4 19  6  2 13 16  3 11 10  8  0 12 14  9  1 15] [7, 5, 18, 17]\n",
      "[ 4 19  6  2 13 16  3 11 10  8  0 12  7  5 18 17] [14, 9, 1, 15]\n"
     ]
    }
   ],
   "source": [
    "for idx_train, idx_test in LFold(5).split(list(range(20))):\n",
    "    print(idx_train, idx_test)"
   ]
  },
  {
   "cell_type": "markdown",
   "id": "9dd3aef5",
   "metadata": {
    "id": "9dd3aef5"
   },
   "source": [
    "## II For both datasets from Question 1, use your L-fold CV implementation to systematically test\n",
    "\n",
    "the effect of the KNN parameter K by testing all options from 1 to 50 and, for each K, instead of only performing a single training/test split run your L-Fold CV. For each K compute the mean and standard mean squared error (training and test) across the L folds and report the K for which you found the best test performance (for both datasets)\n"
   ]
  },
  {
   "cell_type": "code",
   "execution_count": 11,
   "id": "gaBvjEZe0-RV",
   "metadata": {
    "id": "gaBvjEZe0-RV"
   },
   "outputs": [],
   "source": [
    "from sklearn.metrics import mean_squared_error\n",
    "\n",
    "def test_k_values(dataset, k_values, lcv):\n",
    "    #Create empty list for mean of mse and std of mse \n",
    "    mean_MSE_train = []\n",
    "    mean_MSE_test = []\n",
    "    std_MSE_train = []\n",
    "    std_MSE_test = []\n",
    "\n",
    "    for train_idx, test_idx in lcv.split(dataset.data):\n",
    "        MSE_train_folds = []\n",
    "        MSE_test_folds = []\n",
    "        for k in k_values:\n",
    "            knn = KnnRegressor(k)\n",
    "            knn.fit(dataset.data[train_idx], dataset.target[train_idx])\n",
    "            #Predict train data\n",
    "            y_pred_train = knn.predict(dataset.data[train_idx])\n",
    "            #Predict test data\n",
    "            y_pred_test = knn.predict(dataset.data[test_idx])\n",
    "            #Calculate mse for each fold and append mse to list\n",
    "            MSE_train_folds.append(np.mean(mean_squared_error(dataset.target[train_idx], y_pred_train)))\n",
    "            MSE_test_folds.append(np.mean(mean_squared_error(dataset.target[test_idx], y_pred_test)))        \n",
    "\n",
    "      #Calculate mean and std of mse for each k parameter of KNN\n",
    "        mean_MSE_train.append(np.mean(MSE_train_folds))\n",
    "        mean_MSE_test.append(np.mean(MSE_test_folds))\n",
    "        std_MSE_train.append(np.std(MSE_train_folds))\n",
    "        std_MSE_test.append(np.std(MSE_test_folds))\n",
    "\n",
    "    return mean_MSE_train, mean_MSE_test, std_MSE_train, std_MSE_test\n",
    "\n",
    "#Select number of Fold as 5\n",
    "lcv = LFold(reps=5, random_state=0)\n",
    "#Assign k_value from 1 to 50\n",
    "k_values = np.arange(1, 51)"
   ]
  },
  {
   "cell_type": "markdown",
   "id": "nexyq110PypN",
   "metadata": {
    "id": "nexyq110PypN"
   },
   "source": [
    "Compute the mean and standard mean squared error (training and test) across the L folds and report the K for which you found the best test performance (for both datasets)"
   ]
  },
  {
   "cell_type": "code",
   "execution_count": 12,
   "id": "4d4ff84e",
   "metadata": {
    "id": "4d4ff84e",
    "scrolled": true
   },
   "outputs": [
    {
     "name": "stdout",
     "output_type": "stream",
     "text": [
      "Best k value for diabetes dataset: 4\n",
      "Test mean of mse for best k value: 3187.10963322426\n",
      "\n",
      "Best k value for diabetes dataset: 4\n",
      "Test std of mse for best k value: 376.95344120023015\n"
     ]
    }
   ],
   "source": [
    "meanofmse_train_diabetes, meanofmse_test_diabetes,stdofmse_train_diabetes, stdofmse_test_diabetes= test_k_values(diabetes, k_values, lcv)\n",
    "#Lowest value of mean and std of MSE should be the best k value\n",
    "best_k_diabetes = k_values[np.argmin(meanofmse_test_diabetes)]\n",
    "best_ks_diabetes = k_values[np.argmin(stdofmse_test_diabetes)]\n",
    "print(f\"Best k value for diabetes dataset: {best_k_diabetes}\")\n",
    "print(f\"Test mean of mse for best k value: {meanofmse_test_diabetes[np.argmin(meanofmse_test_diabetes)]}\\n\")\n",
    "print(f\"Best k value for diabetes dataset: {best_ks_diabetes}\")\n",
    "print(f\"Test std of mse for best k value: {stdofmse_test_diabetes[np.argmin(stdofmse_test_diabetes)]}\")"
   ]
  },
  {
   "cell_type": "code",
   "execution_count": 13,
   "id": "1fc0f0f9",
   "metadata": {
    "id": "1fc0f0f9"
   },
   "outputs": [
    {
     "name": "stdout",
     "output_type": "stream",
     "text": [
      "Best k value for california housing dataset: 5\n",
      "Test mean of mse for best k value: 1.1658218557918498\n",
      "Best k value for california dataset: 1\n",
      "Test std of mse for best k value: 0.06289946756843823\n",
      "\n",
      "CPU times: total: 1h 8min 18s\n",
      "Wall time: 2h 2min 57s\n"
     ]
    }
   ],
   "source": [
    "%%time\n",
    "meanofmse_train_housing, meanofmse_test_housing, stdodmse_train_housing,stdodmse_test_housing= test_k_values(california_housing, k_values, lcv)\n",
    "best_k_housing = k_values[np.argmin(meanofmse_test_housing)]\n",
    "best_ks_housing = k_values[np.argmin(stdodmse_test_housing)]\n",
    "#Lowest value of mean and std of MSE should be the best k value\n",
    "#As the california_housing dataset is very large, The processing time take around 1 hour in Google Colab environment.\n",
    "#It takes a lot longer in default Jupyter notebook environment\n",
    "print(f\"Best k value for california housing dataset: {best_k_housing}\")\n",
    "print(f\"Test mean of mse for best k value: {meanofmse_test_housing[np.argmin(meanofmse_test_housing)]}\")\n",
    "print(f\"Best k value for california dataset: {best_ks_housing}\")\n",
    "print(f\"Test std of mse for best k value: {stdodmse_test_housing[np.argmin(stdodmse_test_housing)]}\\n\")"
   ]
  },
  {
   "cell_type": "markdown",
   "id": "9997fd54",
   "metadata": {
    "id": "9997fd54"
   },
   "source": [
    "## III For both datasets, plot the mean training and test errors against the choice of K with error bars (using the standard error of the mean). \n",
    "You can compute the standard error of the means as\n",
    " \n",
    "$ste = \\frac{1.96S}{\\sqrt{L}}$\n",
    "\n",
    "where S is the sample standard deviation of the error across the L folds. Based on this plot, comment on\n",
    "\n",
    "– The effect of the parameter K. For both datasets, identify regions of overfitting and underfitting for the KNN model."
   ]
  },
  {
   "cell_type": "code",
   "execution_count": 14,
   "id": "heIzRwpDWM4F",
   "metadata": {
    "id": "heIzRwpDWM4F"
   },
   "outputs": [],
   "source": [
    "from sklearn.metrics import mean_squared_error\n",
    "def plot_graph(dataset,fold,k):\n",
    "  #Select Lfold and k value\n",
    "    lcv = LFold(reps=fold,  random_state=0)  \n",
    "    k_values = k\n",
    "  \n",
    "    #Using similar skeleton from Activity 1.2\n",
    "    mse_train = np.zeros((len(k_values), lcv.get_n_splits()))\n",
    "    mse_test = np.zeros((len(k_values), lcv.get_n_splits()))\n",
    "\n",
    "    for j, (idx_train, idx_test) in enumerate(lcv.split(dataset.data)):\n",
    "        for i, k in enumerate(k_values):\n",
    "            knn = KnnRegressor(k)\n",
    "            knn.fit(dataset.data[idx_train], dataset.target[idx_train])\n",
    "            y_pred_train = knn.predict(dataset.data[idx_train])\n",
    "            y_pred_test = knn.predict(dataset.data[idx_test])\n",
    "            #Calculate MSE for train and test error\n",
    "            mse_train[i, j] = mean_squared_error(dataset.target[idx_train], y_pred_train)\n",
    "            mse_test[i, j] = mean_squared_error(dataset.target[idx_test], y_pred_test)\n",
    "\n",
    "    mean_train = np.mean(mse_train, axis=1)\n",
    "    mean_test = np.mean(mse_test, axis=1)\n",
    "    #Compute standard error of the mean\n",
    "    ste_train = 1.96 * np.std(mse_train, axis=1) / np.sqrt(lcv.get_n_splits())\n",
    "    ste_test = 1.96 * np.std(mse_test, axis=1) / np.sqrt(lcv.get_n_splits())\n",
    "    #Plot line graph\n",
    "    plt.errorbar(k_values, mean_train, yerr=ste_train, label='train')\n",
    "    plt.errorbar(k_values, mean_test, yerr=ste_test, label='test')\n",
    "    plt.xlabel('K')\n",
    "    plt.ylabel('Mean of the mean squared error')\n",
    "    plt.legend()\n",
    "    plt.show()"
   ]
  },
  {
   "cell_type": "markdown",
   "id": "8507fa08",
   "metadata": {
    "id": "8507fa08"
   },
   "source": [
    "Diabetes: The effect of the parameter K"
   ]
  },
  {
   "cell_type": "code",
   "execution_count": 15,
   "id": "Z9JnT3jJV0Tc",
   "metadata": {
    "id": "Z9JnT3jJV0Tc"
   },
   "outputs": [
    {
     "data": {
      "image/png": "[encoded data removed]",
      "text/plain": [
       "<Figure size 432x288 with 1 Axes>"
      ]
     },
     "metadata": {
      "needs_background": "light"
     },
     "output_type": "display_data"
    }
   ],
   "source": [
    "#Fold=4 with k = 1-100\n",
    "plot_graph(diabetes,4,np.arange(1, 101))"
   ]
  },
  {
   "cell_type": "markdown",
   "id": "dGxJhOaNTTku",
   "metadata": {
    "id": "dGxJhOaNTTku"
   },
   "source": [
    "The overfitting region is between 1 and 13. Because variance is high and training error is low\n",
    "\n",
    "The underfitting region is when both errors are high. K optimal is likely around 15-20. The underfitting phenomena start after k = 20 when both errors start to increasing again."
   ]
  },
  {
   "cell_type": "markdown",
   "id": "475dd93e",
   "metadata": {
    "id": "475dd93e"
   },
   "source": [
    "california_housing"
   ]
  },
  {
   "cell_type": "code",
   "execution_count": 16,
   "id": "f349b09e",
   "metadata": {
    "id": "f349b09e"
   },
   "outputs": [
    {
     "data": {
      "image/png": "[encoded data removed]",
      "text/plain": [
       "<Figure size 432x288 with 1 Axes>"
      ]
     },
     "metadata": {
      "needs_background": "light"
     },
     "output_type": "display_data"
    },
    {
     "name": "stdout",
     "output_type": "stream",
     "text": [
      "CPU times: total: 20min 41s\n",
      "Wall time: 37min 5s\n"
     ]
    }
   ],
   "source": [
    "%%time\n",
    "#Fold=2 with k = 1-50\n",
    "#As the california_housing dataset is very large, Using k = 1-100 might take more than 1 hour in the Google Colab environment.\n",
    "#It takes a lot longer in the default Jupyter notebook environment, so I chose k = 1-50 as the graph does not much difference\n",
    "plot_graph(california_housing,2,np.arange(1, 51))"
   ]
  },
  {
   "cell_type": "markdown",
   "id": "zMMeypXnTymD",
   "metadata": {
    "id": "zMMeypXnTymD"
   },
   "source": [
    "The overfitting region is between 1 and 20. Because variance is high and training error is low.\n",
    "\n",
    "The underfitting region is when both errors are high. It doesn't appear in max_k at 50. Both errors stabilize after k = 25, and max_k = 50 is not large enough to let the model show an underfitted region like the Diabetes dataset."
   ]
  },
  {
   "cell_type": "markdown",
   "id": "dcd7f9c1",
   "metadata": {
    "id": "dcd7f9c1"
   },
   "source": [
    "The effect of the parameter L of the CV procedure."
   ]
  },
  {
   "cell_type": "markdown",
   "id": "KdfQuF2Runzl",
   "metadata": {
    "id": "KdfQuF2Runzl"
   },
   "source": [
    "Diabetes"
   ]
  },
  {
   "cell_type": "code",
   "execution_count": 17,
   "id": "1aa57369",
   "metadata": {
    "id": "1aa57369"
   },
   "outputs": [
    {
     "data": {
      "image/png": "[encoded data removed]",
      "text/plain": [
       "<Figure size 432x288 with 1 Axes>"
      ]
     },
     "metadata": {
      "needs_background": "light"
     },
     "output_type": "display_data"
    },
    {
     "data": {
      "image/png": "[encoded data removed]",
      "text/plain": [
       "<Figure size 432x288 with 1 Axes>"
      ]
     },
     "metadata": {
      "needs_background": "light"
     },
     "output_type": "display_data"
    }
   ],
   "source": [
    "#k=1-50 with Fold=5 and Fold = 20\n",
    "plot_graph(diabetes,5,np.arange(1, 51))\n",
    "plot_graph(diabetes,20,np.arange(1, 51))"
   ]
  },
  {
   "cell_type": "markdown",
   "id": "ex0VJwzYUKtz",
   "metadata": {
    "id": "ex0VJwzYUKtz"
   },
   "source": [
    "The effect of parameter L in LFold, It can be seen that the graph trend is similar to the effect of parameter K. The main difference is the longer error bar. Because the data is split into more folds, resulting in a smaller training set in each fold. The test set is also larger, which leads to higher variance in test error. As the training set is smaller, the error bar will be smaller because of the lower variance in training error."
   ]
  },
  {
   "cell_type": "markdown",
   "id": "7adfbb8a",
   "metadata": {
    "id": "7adfbb8a"
   },
   "source": [
    "california_housing The effect of the parameter L"
   ]
  },
  {
   "cell_type": "code",
   "execution_count": 18,
   "id": "39b1681c",
   "metadata": {
    "id": "39b1681c"
   },
   "outputs": [
    {
     "data": {
      "image/png": "[encoded data removed]",
      "text/plain": [
       "<Figure size 432x288 with 1 Axes>"
      ]
     },
     "metadata": {
      "needs_background": "light"
     },
     "output_type": "display_data"
    },
    {
     "data": {
      "image/png": "[encoded data removed]",
      "text/plain": [
       "<Figure size 432x288 with 1 Axes>"
      ]
     },
     "metadata": {
      "needs_background": "light"
     },
     "output_type": "display_data"
    },
    {
     "name": "stdout",
     "output_type": "stream",
     "text": [
      "CPU times: total: 19min 50s\n",
      "Wall time: 31min 41s\n"
     ]
    }
   ],
   "source": [
    "%%time\n",
    "#k= 1-10 with Fold=5 and Fold=20\n",
    "plot_graph(california_housing,5,np.arange(1, 11))\n",
    "plot_graph(california_housing,20,np.arange(1, 11))"
   ]
  },
  {
   "cell_type": "markdown",
   "id": "wHBOghteVI9A",
   "metadata": {
    "id": "wHBOghteVI9A"
   },
   "source": [
    "The effect of parameter L in the above graph. It is still similar to the Diabetes graph. It can be seen that the graph trend is similar to the effect of parameter K. The error bar might be hard to see because it increases or decreases by decimal in training and test error.\n",
    "But the main difference is still the longer error bar. Because the data is split into more folds, resulting in a smaller training set in each fold. The test set is also larger, which leads to higher variance in test error. As the training set is smaller, the error bar will be smaller because of the lower variance in training error.\n",
    "\n",
    "Another thing that occurs in the California housing dataset is processing time. It can be seen that increasing Parameter L in a large dataset. The processing time will increase by a lot as well."
   ]
  },
  {
   "cell_type": "markdown",
   "id": "UoIbKa68ZYdj",
   "metadata": {
    "id": "UoIbKa68ZYdj"
   },
   "source": [
    "\n",
    "\n",
    "---\n",
    "\n"
   ]
  },
  {
   "cell_type": "markdown",
   "id": "abf1ba3b",
   "metadata": {
    "id": "abf1ba3b"
   },
   "source": [
    "# **Question 3 [Automatic Model Selection, 5 + 5 = 10 Marks]**"
   ]
  },
  {
   "cell_type": "markdown",
   "id": "qkntsb29bzGu",
   "metadata": {
    "id": "qkntsb29bzGu"
   },
   "source": [
    "\n",
    "## I Implement a version of the KNN regressor that automatically chooses an appropriate value of K from a list of options by performing an internal cross-validation on the training set at fitting time. Us usually, use the scikit-learn paradigm, i.e., use the following template"
   ]
  },
  {
   "cell_type": "code",
   "execution_count": 19,
   "id": "QQtP-61pNbiN",
   "metadata": {
    "id": "QQtP-61pNbiN"
   },
   "outputs": [],
   "source": [
    "class KnnRegressorCV:\n",
    "    def __init__(self, ks=list(range(1, 21)), cv=LFold(5)):\n",
    "        self.ks = ks\n",
    "        self.cv = cv\n",
    "    def fit(self, x, y=None):\n",
    "        lcv = self.cv\n",
    "        ks = self.ks\n",
    "        mse_test = []\n",
    "        best_k_inner_fold = []        \n",
    "        #Outer_fold index\n",
    "        outer_index_train = []\n",
    "        outer_index_test = []    \n",
    "        for train_idx, test_idx in lcv.split(x.data):\n",
    "            outer_index_train.append(train_idx)\n",
    "            outer_index_test.append(np.array(test_idx))             \n",
    "        #Inner_fold index\n",
    "        for i in range(len(outer_index_train)):\n",
    "            inner_index_train = []\n",
    "            inner_index_test = []\n",
    "            for train_idx, test_idx in lcv.split(outer_index_train[i]):\n",
    "                inner_index_train.append(train_idx)\n",
    "                inner_index_test.append(test_idx)\n",
    "            #Each inner fold      \n",
    "            find_best_k = []\n",
    "            for i in range(len(inner_index_train)):\n",
    "                MSE_inner_loop = []\n",
    "                #Each ks Example 1-20\n",
    "                for k in ks:\n",
    "                    knn = KnnRegressor(k)\n",
    "                    knn.fit(x.data[inner_index_train[i]], x.target[inner_index_train[i]])\n",
    "                    y_pred_test = knn.predict(x.data[inner_index_test[i]])\n",
    "                    #Calculate mse for each inner_fold   \n",
    "                    MSE_inner_loop.append(np.mean(mean_squared_error(x.target[inner_index_test[i]], y_pred_test)))\n",
    "\n",
    "                #Find best K value by Min of MSE each inner_fold and Best k value of each inner_foldw\n",
    "                find_best_k.append(ks[np.argmin(MSE_inner_loop)])\n",
    "            #Best k value of inner_fold\n",
    "            best_k_inner_fold.append(ks[np.argmin(find_best_k)])\n",
    "            knn = KnnRegressor(ks[np.argmin(find_best_k)])\n",
    "            knn.fit(x.data[outer_index_train[i]], x.target[outer_index_train[i]])\n",
    "            y_pred_test = knn.predict(x.data[outer_index_test[i]])\n",
    "            mse_test.append(np.mean(mean_squared_error(x.target[outer_index_test[i]], y_pred_test)))           \n",
    "\n",
    "\n",
    "        #Calculate best k of inner fold by Mean        \n",
    "        mean_k_inner = np.mean(best_k_inner_fold)\n",
    "        #Report (mean) k value at inner fold\n",
    "        print(f\"Best (mean) k value at inner loop :\" + str(mean_k_inner))\n",
    "        self.best_k_outer_loop = best_k_inner_fold[np.argmin(mse_test)]\n",
    "        #Report Best k value at outer fold\n",
    "        print(f\"Best k value at outer loop :\" + str(self.best_k_outer_loop))\n",
    "        #Fit model based on best k value of outer fold                       \n",
    "        self.model = KnnRegressor(k=self.best_k_outer_loop).fit(x.data[outer_index_train[i]], x.target[outer_index_train[i]])\n",
    "        return self\n",
    "\n",
    "\n",
    "    def predict(self, X):\n",
    "        return self.model.predict(X)"
   ]
  },
  {
   "cell_type": "markdown",
   "id": "c33772cf",
   "metadata": {
    "id": "c33772cf"
   },
   "source": [
    "## II For both datasets from the previous questions, test your KNN regressor with internal CV byusing either a outer single train/test-split or, ideally, with an outer cross-validation \n",
    "(resulting in a so-called nested cross-validation scheme). Report on the (mean) k value that is chosen\n",
    "by the KNN regressor with internal cross-validation and whether it corresponds to the best\n",
    "k-value with respect to the outer test sets. Comment on what factors determine whether the\n",
    "internal cross-validation procedure is successful in approximately selecting the best model.\n"
   ]
  },
  {
   "cell_type": "code",
   "execution_count": 20,
   "id": "tfpFY4MjRawp",
   "metadata": {
    "id": "tfpFY4MjRawp"
   },
   "outputs": [
    {
     "name": "stdout",
     "output_type": "stream",
     "text": [
      "Best (mean) k value at inner loop :2.6\n",
      "Best k value at outer loop :4\n"
     ]
    },
    {
     "data": {
      "text/plain": [
       "<__main__.KnnRegressorCV at 0x2c2a6542af0>"
      ]
     },
     "execution_count": 20,
     "metadata": {},
     "output_type": "execute_result"
    }
   ],
   "source": [
    "knn_cv = KnnRegressorCV()\n",
    "knn_cv.fit(diabetes)"
   ]
  },
  {
   "cell_type": "code",
   "execution_count": 21,
   "id": "0KQ7QAsx9KyM",
   "metadata": {
    "id": "0KQ7QAsx9KyM"
   },
   "outputs": [
    {
     "name": "stdout",
     "output_type": "stream",
     "text": [
      "Best (mean) k value at inner loop :2.4\n",
      "Best k value at outer loop :5\n"
     ]
    },
    {
     "data": {
      "text/plain": [
       "<__main__.KnnRegressorCV at 0x2c2a5b89340>"
      ]
     },
     "execution_count": 21,
     "metadata": {},
     "output_type": "execute_result"
    }
   ],
   "source": [
    "knn_cv = KnnRegressorCV()\n",
    "knn_cv.fit(california_housing)"
   ]
  },
  {
   "cell_type": "markdown",
   "id": "5gwCKOBCQjAD",
   "metadata": {
    "id": "5gwCKOBCQjAD"
   },
   "source": [
    "**Factors determine whether the\n",
    "internal cross-validation procedure is successful in approximately selecting the best model**\n",
    "\n",
    "Depending on the number of folds, more folds are more accurate, and the choice of ks, as in the above function, only 1-20 have to choose the best range to find the best model. But the tradeoff of increasing the number of folds and choice of ks range is to increase the processing time to run the model. Lastly, The size of the dataset matters. A bigger dataset should give us more choices to run the internal cross-validation procedure. \n",
    "\n"
   ]
  },
  {
   "cell_type": "markdown",
   "id": "SqiL_6w-ZZ8G",
   "metadata": {
    "id": "SqiL_6w-ZZ8G"
   },
   "source": [
    "\n",
    "\n",
    "---\n",
    "\n"
   ]
  },
  {
   "cell_type": "markdown",
   "id": "SPGswtu0elw3",
   "metadata": {
    "id": "SPGswtu0elw3"
   },
   "source": [
    "# **Question 4 [Bayes Rule, 5+5=10 Marks]**\n",
    "Recall the simple example from Appendix A of Module 1. Suppose we have one red, one blue, and one yellow box with the following content:\n",
    "\n",
    "• In the red box we have 3 apples and 5 oranges,\n",
    "\n",
    "• in the blue box we have 4 apples and 4 oranges, and \n",
    "\n",
    "• in the yellow box we have 1 apples and 1 orange.\n",
    "\n",
    "\n",
    "Now suppose we selected one of the boxes uniformly at random and then, in a second step, picked a fruit from it, again uniformly at random.\n"
   ]
  },
  {
   "cell_type": "markdown",
   "id": "K6lLfMMEepjz",
   "metadata": {
    "id": "K6lLfMMEepjz"
   },
   "source": [
    "## I Implement a Python function that simulates the above experiment (using a suitable method of a numpy random number generator obtained via numpy.random.get default rng)."
   ]
  },
  {
   "cell_type": "code",
   "execution_count": 22,
   "id": "mqvc3vZCZw4Z",
   "metadata": {
    "id": "mqvc3vZCZw4Z"
   },
   "outputs": [
    {
     "name": "stdout",
     "output_type": "stream",
     "text": [
      "Box color: ['blue', 'red', 'blue', 'blue', 'blue', 'blue']   Picked fruit: ['oranges', 'oranges', 'apple', 'apple', 'oranges', 'oranges']\n"
     ]
    }
   ],
   "source": [
    "def fruit_experiment(number_of_experiment):\n",
    "  #Create RNG parameter based on select seed\n",
    "    ans1 = []\n",
    "    ans2 = []\n",
    "    for i in range(number_of_experiment):\n",
    "        rng = np.random.default_rng(seed=i)\n",
    "        #Create box_list\n",
    "        box = ('red','blue','yellow')\n",
    "        #Create Fruit in each box\n",
    "        item_in_box =[['apple','apple','apple','oranges','oranges','oranges','oranges','oranges'],['apple','apple','apple','apple','oranges','oranges','oranges','oranges'],['apple','orange']]\n",
    "\n",
    "        #Select one of the boxes uniformly\n",
    "        select_box= rng.integers(len(item_in_box)-1, size=1)\n",
    "        select_box= select_box.tolist()\n",
    "        ans1.append(box[select_box[0]])\n",
    "\n",
    "        #Select one of the fruit in above box uniformly\n",
    "        picked_fruit = len(item_in_box[select_box[0]])-1\n",
    "        picked_fruit= rng.integers(picked_fruit, size=1)\n",
    "        picked_fruit = picked_fruit.tolist()\n",
    "        ans2.append(item_in_box[select_box[0]][picked_fruit[0]])\n",
    "\n",
    "    return print(f\"Box color: {ans1}  \",f\"Picked fruit: {ans2}\")\n",
    "\n",
    "fruit_experiment(6)"
   ]
  },
  {
   "cell_type": "markdown",
   "id": "7L69hioqe3n1",
   "metadata": {
    "id": "7L69hioqe3n1"
   },
   "source": [
    "## II Answer the following question by a formal derivation: If the picked fruit is an apple, what is the probability that it was picked from the yellow box?"
   ]
  },
  {
   "cell_type": "markdown",
   "id": "3mBjApQRrUdp",
   "metadata": {
    "id": "3mBjApQRrUdp"
   },
   "source": [
    "$P(Red),P(Yellow),P(Blue) = \\frac{1}{3}$\n",
    "\n",
    "$P(Apple|Red) = \\frac{3}{8}$\n",
    "\n",
    "$P(Apple|Blue) = \\frac{1}{2}$\n",
    "\n",
    "$P(Apple|Yellow)= \\frac{1}{2}$\n",
    "\n",
    "\n",
    "$P(Yellow|Apple) = \\frac{P(Yellow)* P(Apple|Yellow)}{p(Yellow)* P(Apple|Yellow) + p(Red)* P(Apple|Red) +Pp(Apple|Blue) * P(Blue)}$\n",
    "\n",
    "\n",
    "$p(Yellow|Apple) = \\frac{\\frac{1}{3}*\\frac{1}{2}}\n",
    "{(\\frac{1}{3}* \\frac{1}{2}) + (\\frac{1}{3}\n",
    "* \\frac{3}{8}) + (\\frac{1}{3}\n",
    "* \\frac{1}{2})} = \\frac{4}{11}$"
   ]
  },
  {
   "cell_type": "markdown",
   "id": "zu3Rc9lkZfhs",
   "metadata": {
    "id": "zu3Rc9lkZfhs"
   },
   "source": [
    "\n",
    "\n",
    "---\n",
    "\n"
   ]
  },
  {
   "cell_type": "markdown",
   "id": "37EvJHCEergN",
   "metadata": {
    "id": "37EvJHCEergN"
   },
   "source": [
    "# **Question 5 [Ridge Regression, 10+5+5=20 Marks]**"
   ]
  },
  {
   "cell_type": "markdown",
   "id": "MZxDrC6YewVL",
   "metadata": {
    "id": "MZxDrC6YewVL"
   },
   "source": [
    "## I Derive the weight update steps of stochastic gradient descent (SGD) for linear regression with L2 regularisation norm or a system of linear equations \n",
    "that uniquely determine the\n",
    "minimum of the regularised error function. Give this derivation with enough explanation in a\n",
    "markdown cell (ideally using Latex for readable math typesetting). The starting point is the\n",
    "definition of the regularised error function and the end result is either the weight update step\n",
    "for this function in (stochastic) gradient descent or a system of linear equations described in\n",
    "matrix/vector notation. In both cases, you have to derive the gradient as an intermediate\n",
    "step"
   ]
  },
  {
   "cell_type": "markdown",
   "id": "9kKJeb4Ex54W",
   "metadata": {
    "id": "9kKJeb4Ex54W"
   },
   "source": [
    "**Answer**\n",
    "\n",
    "Refer to :https://www.youtube.com/watch?v=skOcLw_fXDs&list=LL&index=1&t=412s&ab_channel=EndlessEngineering\n",
    "\n",
    "and https://sebastianraschka.com/faq/docs/linear-gradient-derivative.html\n",
    "\n",
    "For linear regression with L2 regularization, we want to minimize the regularized error function:\n",
    "\n",
    "$E(\\mathbf{w}) = \\mathbf{X} \\mathbf{w}  - \\mathbf{Y})^T(\\mathbf{Xw} - \\mathbf{Y}) + {\\lambda} \\mathbf{w}^T \\mathbf{w}$ \n",
    "\n",
    "By second term ${\\lambda} \\mathbf{w}^T \\mathbf{w}$ is L2 regularization\n",
    "\n",
    "$\\mathbf{w}$ is the vector of weights\n",
    "$\\mathbf{X}$ is the matrix of input features \n",
    "\n",
    "$\\mathbf{Y}$ is the vector of target values\n",
    "\n",
    "$\\lambda$ is the regularization parameter.\n",
    "\n",
    "Then derivative respect to w set equal to 0\n",
    "\n",
    "$0 = 2 \\mathbf{X}^T (\\mathbf{Xw}  - \\mathbf{Y}) + {\\lambda} 2\\mathbf{w}$\n",
    "\n",
    "Divide by 2 and then multiply $\\mathbf{X}^T$ in to bracket\n",
    "\n",
    "$0 = \\mathbf{X}^T (\\mathbf{Xw}  - \\mathbf{Y}) + {\\lambda} \\mathbf{w}$\n",
    "\n",
    "$0 = \\mathbf{X}^T \\mathbf{Xw}  - \\mathbf{X}^T \\mathbf{Y} + {\\lambda} \\mathbf{w}$\n",
    "\n",
    "Move $-\\mathbf{X}^T \\mathbf{Y} $ to other side and factor out the W\n",
    "\n",
    "$\\mathbf{X}^T \\mathbf{Yy} = (\\mathbf{X}^T \\mathbf{X}  + {\\lambda}\\mathbf{I}) \\mathbf{w}$\n",
    "\n",
    "Using $\\mathbf{A}^{-1}\\mathbf{B} = \\mathbf{X}$ to solve for W\n",
    "\n",
    "\n",
    "$\\mathbf{w} = (\\mathbf{X}^T \\mathbf{X}  + {\\lambda}\\mathbf{I})^{-1} \\mathbf{X}^T\\mathbf{Y}$\n",
    "\n",
    "\n",
    "\n",
    "---\n",
    "\n",
    "\n",
    "\n",
    "Using the stochastic gradient descent (SGD) to minimize this function by iteratively updating the weights in the direction of the negative gradient of the objective function with respect to the weights. The weight update rule for SGD can be derived as follows:\n",
    "\n",
    "Select a random sample of the data and calculate the gradient of the regularized error function with respect to the weights for that datapoint:\n",
    "\n",
    "\n",
    "\n",
    "$\\nabla_{} E\\mathbf{w}_{\\text{n}} = (\\mathbf{X}^T \\mathbf{X}{\\text{n}}  + {\\lambda}\\mathbf{I})^{-1} \\mathbf{X}^T\\mathbf{Y}{\\text{n}}$\n",
    "\n",
    "\n",
    "Then Update the weights by subtracting the gradient of the regularized error function with respect to the weights for the datapoint multiplied by the learning rate $\\eta$:\n",
    "\n",
    "\n",
    "$\\mathbf{w}^t = \\mathbf{w}^{t-1} - \\eta^t \\nabla_{\\mathbf{w}} E_{\\text{n}}(\\mathbf{w}^{t-1})$\n",
    "\n",
    "$\\mathbf{t}$  is iteration number\n",
    "\n",
    "$\\eta^t$ is learning rate parameter\n",
    "\n",
    "To summarize the algorithm\n",
    "\n",
    "Start at the parameter $\\mathbf{w}^0  ,  \\mathbf{t}=1$\n",
    "Continue the process when the condition is not met do:\n",
    "\n",
    "*   Random select datapoint ( $\\mathbf{X}{\\text{n}},\\mathbf{Y}{\\text{n}})$\n",
    "*   $\\mathbf{w}^t = \\mathbf{w}^{t-1} - \\eta^t \\nabla_{\\mathbf{w}} E_{\\text{n}}(\\mathbf{w}^{t-1})$\n",
    "*   Update iteration $\\mathbf{t}= \\mathbf{t}+1$\n",
    "\n",
    "Stop condition\n",
    "\n",
    "*   Reached assign max iteration\n",
    "*   or the $\\mathbf{w}^t - \\mathbf{w}^{t-1}  < \\epsilon$\n",
    "\n",
    "\n",
    "\n",
    "\n",
    "\n",
    "\n"
   ]
  },
  {
   "cell_type": "markdown",
   "id": "5zUP9EaEfB84",
   "metadata": {
    "id": "5zUP9EaEfB84"
   },
   "source": [
    "## II Using the analytically derived gradient from Step I\n",
    "implement either a direct or a (stochastic)\n",
    "gradient descent algorithm for Ridge Regression (use again the usual template with init ,\n",
    "fit, and predict methods. You cannot use any import from sklearn.linear model for this\n",
    "task."
   ]
  },
  {
   "cell_type": "code",
   "execution_count": 23,
   "id": "sJJhFNAhfF3q",
   "metadata": {
    "id": "sJJhFNAhfF3q"
   },
   "outputs": [],
   "source": [
    "#Refer https://stackoverflow.com/questions/64744455/error-in-ridge-regression-gradient-descent-python\n",
    "#https://machinelearningcompass.com/machine_learning_models/ridge_regression/ https://stackoverflow.com/questions/65909753/gradient-descent-for-ridge-regression\n",
    "\n",
    "#Using similar skeleton from Activity 2.1 to implement direct gradient descent algorithm for Ridge Regression\n",
    "class GDRidgeRegression:\n",
    "\n",
    "    def __init__(self, eta=0.01, tau_max=1000, epsilon=0.00001,alpha =0.01):\n",
    "        self.eta = eta\n",
    "        self.tau_max = tau_max\n",
    "        self.epsilon = epsilon\n",
    "        self.alpha = alpha\n",
    "        \n",
    "    def fit(self, x, y):\n",
    "        # initial weight matrix with p columns and as many rows as we can have iterations\n",
    "        # we will store each intermediate weight vector in one row of this matrix\n",
    "        n, p = x.shape\n",
    "        self.w_ = np.zeros(shape=(self.tau_max+1, p))\n",
    "\n",
    "        for tau in range(1, self.tau_max+1):\n",
    "            grad = x.T.dot(x.dot(self.w_[tau-1])-y)/n + self.alpha*self.w_[tau-1] #self.alpha*self.w_[tau-1] = L2 term\n",
    "            self.w_[tau] = self.w_[tau-1] - self.eta*grad\n",
    "            # stopping criterion\n",
    "            if np.linalg.norm(self.w_[tau]-self.w_[tau-1]) < self.epsilon:\n",
    "                break\n",
    "        # set final coefficients\n",
    "        self.coef_ = self.w_[tau] \n",
    "        # delete unused rows from weight matrix\n",
    "        self.w_ = self.w_[:tau+1]\n",
    "        return self\n",
    "\n",
    "    def predict(self, x):\n",
    "        return x.dot(self.coef_)\n"
   ]
  },
  {
   "cell_type": "markdown",
   "id": "6kA4Q03HfGc4",
   "metadata": {
    "id": "6kA4Q03HfGc4"
   },
   "source": [
    "## III Study the effect of the L2-regularization on the training and testing errors, using the synthetic data generator from Activity 2.3. \n",
    "i.e., where data is generated according to\n",
    "\n",
    "\n",
    "X ∼ Uniform(−0.3, 0.3) \n",
    "\n",
    "Y = sin(5πx) + ε\n",
    "1+2x \n",
    "\n",
    "ε ∼ N(0, 0.1)\n",
    "\n"
   ]
  },
  {
   "cell_type": "code",
   "execution_count": 24,
   "id": "ohLvWrRqUwLp",
   "metadata": {
    "id": "ohLvWrRqUwLp"
   },
   "outputs": [],
   "source": [
    "#Using code from activity 2.3\n",
    "def f(x):\n",
    "    return np.sin(5*np.pi*x)/(1+2*x)\n",
    "\n",
    "def make_additive_noise_data(n, f, a, b, noise=0.1**0.5, random_state=None):\n",
    "    RNG = np.random.default_rng(random_state)\n",
    "    x = RNG.uniform(a, b, size=(n, 1))\n",
    "    y = f(x) + RNG.normal(0, noise, size=(n, 1))\n",
    "    #Made it 1D to avoid error\n",
    "    y = y.ravel()\n",
    "    return x, y\n",
    "\n",
    "x_train, y_train = make_additive_noise_data(20, f, -0.3, 0.3, random_state=1)"
   ]
  },
  {
   "cell_type": "markdown",
   "id": "dSH3Rsb8UxAH",
   "metadata": {
    "id": "dSH3Rsb8UxAH"
   },
   "source": [
    "a Consider the ridge regression model for each λ in {10−10+9i/100\n",
    ", . . . , 10−1\n",
    ": 0 ≤ i ≤ 100}\n",
    "by creating a pipeline of your implemented ridge regressor with a polynomial feature\n",
    "transformer with degree 5.\n",
    "Hint: You can create an array with the above choices for λ via numpy.geomspace(10**-10,\n",
    "0.1, 101, endpoint=True).\n",
    ".\n",
    "\n",
    "b Fit each model at least ten times (resampling a training dataset of size 20 each time)\n",
    "for all choices of λ. To reduce the variance of the experiment make sure that for each\n",
    "repetition all models use the same training dataset (i.e., make the repetitions the outer\n",
    "loop and the choices of λ the inner loop, and sample only one training set per outer\n",
    "loop)."
   ]
  },
  {
   "cell_type": "code",
   "execution_count": 25,
   "id": "k4i3zpkFUz0N",
   "metadata": {
    "id": "k4i3zpkFUz0N"
   },
   "outputs": [],
   "source": [
    "#Using code from activity 2.3\n",
    "class PolynomialFeatures:\n",
    "    def __init__(self, degree):\n",
    "        self.degree = degree\n",
    "\n",
    "    def fit(self, x, y=None):\n",
    "        return self\n",
    "\n",
    "    def transform(self, x, y=None):\n",
    "        output = []\n",
    "        for i in range(0, self.degree+1):\n",
    "            output.append(x**i)\n",
    "        return np.column_stack(output)\n",
    "\n",
    "    def fit_transform(self, x, y=None):\n",
    "        self.fit(x, y)\n",
    "        return self.transform(x, y)\n",
    "        \n",
    "#Identity λ\n",
    "Assigned_alpha = np.geomspace(10**-10,0.1, 101, endpoint=True)"
   ]
  },
  {
   "cell_type": "code",
   "execution_count": 26,
   "id": "FflgKkhCx3BB",
   "metadata": {
    "id": "FflgKkhCx3BB"
   },
   "outputs": [],
   "source": [
    "#creating a pipeline of your implemented ridge regressor\n",
    "from sklearn.pipeline import make_pipeline\n",
    "#According to https://edstem.org/au/courses/11464/discussion/1299015, Allowed to using Ridge from sklearn library\n",
    "from sklearn.linear_model import Ridge\n",
    "train_size = 20\n",
    "n_reps = 15\n",
    "models = []\n",
    "#Fit the model at least time 10 at outer loop \n",
    "for i in range(n_reps):\n",
    "    x_train_rep, y_train_rep = make_additive_noise_data(train_size, f, -0.3, 0.3, random_state=i)\n",
    "    model_reps = []\n",
    "    #Inner loop is the choices of λ\n",
    "    for d in Assigned_alpha:\n",
    "      #Polynomial feature transformer with degree 5 and Using λ from Assigned_alpha\n",
    "        model = make_pipeline(PolynomialFeatures(5), Ridge(alpha=d))\n",
    "        model.fit(x_train_rep, y_train_rep)\n",
    "        model_reps.append(model)\n",
    "    models.append(model_reps)"
   ]
  },
  {
   "cell_type": "markdown",
   "id": "Q2QKWHieU2sq",
   "metadata": {
    "id": "Q2QKWHieU2sq"
   },
   "source": [
    "c Create a plot of mean squared errors (use different colors for the training and testing\n",
    "errors), where the x-axis is log lambda and y-axis is the log mean squared error."
   ]
  },
  {
   "cell_type": "code",
   "execution_count": 27,
   "id": "psCKt3VJe93G",
   "metadata": {
    "id": "psCKt3VJe93G"
   },
   "outputs": [
    {
     "data": {
      "image/png": "[encoded data removed]",
      "text/plain": [
       "<Figure size 432x288 with 1 Axes>"
      ]
     },
     "metadata": {
      "needs_background": "light"
     },
     "output_type": "display_data"
    }
   ],
   "source": [
    "train_errors_alpha = np.zeros((len(Assigned_alpha), n_reps))\n",
    "test_errors_alpha = np.zeros((len(Assigned_alpha), n_reps))\n",
    "\n",
    "#Create test dataset\n",
    "x_test, y_test = make_additive_noise_data(200, f, -0.3, 0.3, random_state=11)\n",
    "\n",
    "#Fit the model at least time 10 at outer loop \n",
    "for i in range(n_reps):\n",
    "    x_train_rep, y_train_rep = make_additive_noise_data(train_size, f, -0.3, 0.3, random_state=i)\n",
    "    #Inner loop is the choices of λ\n",
    "    for d in range(len(Assigned_alpha)):\n",
    "        model = models[i][d]\n",
    "        y_train_pred=model.predict(x_train_rep)\n",
    "        train_errors_alpha[d,i] = mean_squared_error(y_train_rep, y_train_pred)\n",
    "        y_test_pred=model.predict(x_test)\n",
    "        test_errors_alpha[d,i] = mean_squared_error(y_test, y_test_pred)\n",
    "\n",
    "#Calculate mean at axis 1 or Vertical axis\n",
    "train_errors = np.mean(train_errors_alpha,axis =1 )\n",
    "test_errors  = np.mean(test_errors_alpha,axis =1 )\n",
    "\n",
    "# plot results\n",
    "plt.plot(Assigned_alpha, train_errors, label='Train')\n",
    "plt.plot(Assigned_alpha, test_errors, label='Test')\n",
    "#Using the hint to show log of Lambda and MSE\n",
    "plt.xscale('log')\n",
    "plt.yscale('log')\n",
    "plt.xlabel('Log(Lambda)')\n",
    "plt.ylabel('Log(Mean Squared Error)')\n",
    "plt.xscale('log')\n",
    "plt.legend()\n",
    "plt.show()"
   ]
  },
  {
   "cell_type": "markdown",
   "id": "Ubh7CdSS1AI_",
   "metadata": {
    "id": "Ubh7CdSS1AI_"
   },
   "source": [
    "**Discuss\n",
    "λ, model complexity, and error rates, corresponding to underfitting and overfitting, by\n",
    "observing your plot.**.\n",
    "\n",
    "Refer: https://www.analyticsvidhya.com/blog/2016/01/ridge-lasso-regression-python-complete-tutorial/ and https://www.statology.org/ridge-regression-in-r/\n",
    "\n",
    "\n",
    "Answer: At the start, λ is very low. It can be seen that the train MSE is very low, and the test MSE is relatively high. It will be overfitted at the λ is low. Ridge regression will prevent the overfitted by increasing λ parameter. In the middle of the graph. Both of MSEs start to converge on each other. It indicates that λ increase will reduce overfitted until it reaches optimal λ. If we still increase the λ after the optimal λ. It can be seen that both MSEs keep increasing. It shows that the model starts to be underfitted because the tradeoff is the model will be less complex if we increase λ beyond optimal and start to underfit.\n",
    "\n"
   ]
  },
  {
   "cell_type": "markdown",
   "id": "X0QopqG8Zg44",
   "metadata": {
    "id": "X0QopqG8Zg44"
   },
   "source": [
    "\n",
    "\n",
    "---\n",
    "\n"
   ]
  },
  {
   "cell_type": "markdown",
   "id": "1oK4DnrFClt0",
   "metadata": {
    "id": "1oK4DnrFClt0"
   },
   "source": [
    "# **Question 6 [Multiclass Perceptron, 5+5+10=20 Marks]**\n"
   ]
  },
  {
   "cell_type": "markdown",
   "id": "AgDuCdg-cO74",
   "metadata": {
    "id": "AgDuCdg-cO74"
   },
   "source": [
    "## I Implement the multiclass perceptron as explained above using the usual template ( init ,fit, and predict). \n",
    "In your fit implementation store the history of the weight vectors\n",
    "\n",
    "In your fit method you have to determine what and how many classes exist based on the\n",
    "passed target values. One way to do this is via the function numpy.unique."
   ]
  },
  {
   "cell_type": "code",
   "execution_count": 28,
   "id": "nch0RlsHYOtD",
   "metadata": {
    "id": "nch0RlsHYOtD"
   },
   "outputs": [],
   "source": [
    "# Ref https://swayattadaw.medium.com/multiclass-perceptron-from-scratch-ed326fc34b8f and https://www.kaggle.com/code/alizahidraja/multiclass-perceptron/notebook\n",
    "#Using similar skeleton from activity 3.1\n",
    "class Perceptron:\n",
    "    def __init__(self, eta=0.01, tau_max=10000, epsilon=0.005, random_state=None):\n",
    "        self.eta = eta   # learning rate\n",
    "        self.tau_max = tau_max   # max number of iterations\n",
    "        self.epsilon = epsilon   # tolerable error\n",
    "        self.random_state = random_state\n",
    "\n",
    "    def fit(self, X, y):\n",
    "        RNG = np.random.default_rng(self.random_state)\n",
    "        n, p = X.shape\n",
    "\n",
    "        #Determine what and how many classes exist based on the passed target values\n",
    "        self.classes_ = np.unique(y)   \n",
    "        self.n_classes_ = len(self.classes_)\n",
    "\n",
    "        self.w_trace_ = np.empty((self.tau_max, p, self.n_classes_))# trace of weights during training\n",
    "        self.xy_idx_trace_ = np.empty(self.tau_max, int) # trace of considered training point indices\n",
    "\n",
    "        # initialisation of iteration counter and weights\n",
    "        tau = 0 \n",
    "        self.w_ = self.w_trace_[0,:,:] = RNG.normal(size=(p, self.n_classes_)) \n",
    "        terminate = False\n",
    "\n",
    "        while not (terminate or (self.predict(X)!=y).mean()<self.epsilon):\n",
    "            # random order/index to consider training data\n",
    "            order = RNG.choice(np.arange(n),size = n ,replace = False)\n",
    "            \n",
    "            for i in range(n):\n",
    "                y_i = y[order][i] # true class of the current sample/ Example y_i = 4\n",
    "                scores = X[order][i].dot(self.w_) #Calculate score \n",
    "\n",
    "                if scores[y_i] < np.max(scores):  # If score at the true class less than max scores = Wrong prediction\n",
    "                    j = np.argmax(scores) #Identify the wrong answer index/class\n",
    "                    self.w_[:,y_i] = self.w_[:,y_i] + self.eta * X[order][i]  #Increase score for right answer at true class\n",
    "                    self.w_[:,j] =   self.w_[:,j]   - self.eta * X[order][i]  #Reduce score for wrong answer at wrong index/class\n",
    "\n",
    "                self.w_trace_[tau+1] = self.w_ #Saving weight of each iteration\n",
    "                self.xy_idx_trace_[tau] = order[i]  #Saving index of each iteration\n",
    "\n",
    "                tau +=1 #Increase iteration\n",
    "                if tau == self.tau_max-1: #break when reach tau_max\n",
    "                    terminate = True\n",
    "                    break\n",
    "\n",
    "        # trim empty rows from traces\n",
    "        self.w_trace_ = self.w_trace_[:tau] \n",
    "        self.xy_idx_trace_ = self.xy_idx_trace_[:tau-1]\n",
    "        return self\n",
    "\n",
    "    def predict(self, X):\n",
    "        scores = X.dot(self.w_)\n",
    "        y_pred = np.argmax(scores, axis=1)\n",
    "        return self.classes_[y_pred]"
   ]
  },
  {
   "cell_type": "markdown",
   "id": "6nLlLC3fCtVo",
   "metadata": {
    "id": "6nLlLC3fCtVo"
   },
   "source": [
    "## II Evaluate your algorithm using the digits dataset provided through the function load digits in sklearn.datasets. \n",
    "This is a classification problem with 10 classes corresponding to the\n",
    "digites 0 to 9 (see the scikit-learn online documentation for more information). \n",
    "\n",
    "Perform\n",
    "an 80/20 train/test split and report your train and test error rates for three different learning\n",
    "rates, η = 0.01, η = 0.1, and η = 0.9 (setting max iterations to 200000 and error tolerance to\n",
    "0.005). Also report the number of iterations of the inner loops that have been performed in\n",
    "each case."
   ]
  },
  {
   "cell_type": "code",
   "execution_count": 29,
   "id": "5KFuqr-NOVbo",
   "metadata": {
    "id": "5KFuqr-NOVbo"
   },
   "outputs": [],
   "source": [
    "from sklearn.datasets import load_digits\n",
    "#Load digits from sklearn.datasets\n",
    "digits = load_digits()\n",
    "#Perform an 80/20 train/test split\n",
    "x_train, x_test, y_train, y_test = train_test_split_activity(digits.data, digits.target, train_size=0.8, random_state=0)"
   ]
  },
  {
   "cell_type": "code",
   "execution_count": 30,
   "id": "kSoA5lrR7Woa",
   "metadata": {
    "id": "kSoA5lrR7Woa"
   },
   "outputs": [
    {
     "name": "stdout",
     "output_type": "stream",
     "text": [
      "Learning Rate: 0.01\n",
      "Number of iterations: 41702\n",
      "Train Error Rate: 0.003477051460361591\n",
      "Test Error Rate: 0.03899721448467963 \n",
      "\n",
      "Learning Rate: 0.1\n",
      "Number of iterations: 31636\n",
      "Train Error Rate: 0.004867872044506227\n",
      "Test Error Rate: 0.0473537604456824 \n",
      "\n",
      "Learning Rate: 0.9\n",
      "Number of iterations: 43140\n",
      "Train Error Rate: 0.0027816411682892728\n",
      "Test Error Rate: 0.0473537604456824 \n",
      "\n"
     ]
    }
   ],
   "source": [
    "from sklearn.metrics import zero_one_loss\n",
    "#Three different learning rates, η = 0.01, η = 0.1, and η = 0.9\n",
    "etas = [0.01, 0.1, 0.9]\n",
    "\n",
    "for eta in etas:\n",
    "    #Setting max iterations to 200000 and error tolerance to 0.005\n",
    "    perceptron = Perceptron(eta=eta, tau_max=200000, epsilon=0.005, random_state=0)\n",
    "    perceptron.fit(x_train, y_train)\n",
    "    train_error = zero_one_loss(perceptron.predict(x_train), y_train)\n",
    "    test_error = zero_one_loss(perceptron.predict(x_test), y_test)\n",
    "    #Report the number of iterations of the inner loops that have been performed in each case\n",
    "    print(\"Learning Rate:\", eta)\n",
    "    print(\"Number of iterations:\", perceptron.w_trace_.shape[0])\n",
    "    print(\"Train Error Rate:\", train_error)\n",
    "    print(\"Test Error Rate:\", test_error,\"\\n\")"
   ]
  },
  {
   "cell_type": "markdown",
   "id": "pcSV706dCvDx",
   "metadata": {
    "id": "pcSV706dCvDx"
   },
   "source": [
    "## III Finally, for each learning rate, draw a plot of the training and test error as the number of iterations of the inner loop increases\n"
   ]
  },
  {
   "cell_type": "code",
   "execution_count": 31,
   "id": "sWlW6Jk3QAGm",
   "metadata": {
    "id": "sWlW6Jk3QAGm"
   },
   "outputs": [
    {
     "data": {
      "image/png": "[encoded data removed]",
      "text/plain": [
       "<Figure size 432x288 with 1 Axes>"
      ]
     },
     "metadata": {
      "needs_background": "light"
     },
     "output_type": "display_data"
    },
    {
     "data": {
      "image/png": "[encoded data removed]",
      "text/plain": [
       "<Figure size 432x288 with 1 Axes>"
      ]
     },
     "metadata": {
      "needs_background": "light"
     },
     "output_type": "display_data"
    },
    {
     "data": {
      "image/png": "[encoded data removed]",
      "text/plain": [
       "<Figure size 432x288 with 1 Axes>"
      ]
     },
     "metadata": {
      "needs_background": "light"
     },
     "output_type": "display_data"
    }
   ],
   "source": [
    "#Using similar skeleton from Activity 3.1\n",
    "for eta in etas:\n",
    "    perceptron = Perceptron(eta=eta, tau_max=200000, epsilon=0.005, random_state=0)\n",
    "    perceptron.fit(x_train, y_train)\n",
    "    \n",
    "    train_errors = []\n",
    "    test_errors = []\n",
    "    iterations = []\n",
    "    \n",
    "    #In each iteration\n",
    "    for tau, w in enumerate(perceptron.w_trace_):    \n",
    "       #  tau % 1000 ==  to reduce clutter in plot\n",
    "        if tau % 1000 == 0:\n",
    "            iterations.append(tau)\n",
    "            #Running zero_one_loss test at every w_trace / np.argmax(x_train.dot(w), axis=1) to identify class compare with True class\n",
    "            #Example [-58.32838097 -57.69471701  -7.84373549 ... -58.26409776   3.63041248 -3.69139518]] argmax is Class 6 but Zero one loss with true class in Y_train or test it might be 6 or other\n",
    "            train_errors.append(zero_one_loss(np.argmax(x_train.dot(w), axis=1), y_train))\n",
    "            test_errors.append(zero_one_loss(np.argmax(x_test.dot(w), axis=1), y_test))\n",
    "            \n",
    "    plt.plot(iterations, train_errors, label=\"Train Error Rate\")\n",
    "    plt.plot(iterations, test_errors, label=\"Test Error Rate\")\n",
    "    plt.title(\"Learning Rate: \" + str(eta))\n",
    "    plt.xlabel(\"Number of Iterations\")\n",
    "    plt.ylabel(\"Zero one loss\")\n",
    "    plt.legend()\n",
    "    plt.show()"
   ]
  },
  {
   "cell_type": "markdown",
   "id": "OmjPtu2ZRYx9",
   "metadata": {
    "id": "OmjPtu2ZRYx9"
   },
   "source": [
    "**Explain how the errors behave as the training data\n",
    "increases and how this is effected by the learning rate. Comment on what setting was the\n",
    "most efficient**\n",
    "\n",
    "As training data increases, the error will generally decrease until it stabilizes and is not changed that much. The applicable learning rate will reduce the error and converge faster than the unsuitable rate. \n",
    "\n",
    "It can be seen that the best setting for the above graph is a learning rate of 0.1. As it converges on error tolerance much faster at around 30000 iterations. But for other learning rates will converge around 40000 iterations.\n",
    "\n",
    "The learning rate of 0.1 also reaches one of the lowest error rates, around 6000 iterations faster than the learning rate of 0.01, and 0.9 reach one of the lowest error rates at roughly 10000 iterations."
   ]
  },
  {
   "cell_type": "markdown",
   "id": "5-vmHeqnZiji",
   "metadata": {
    "id": "5-vmHeqnZiji"
   },
   "source": [
    "\n",
    "\n",
    "---\n",
    "\n"
   ]
  },
  {
   "cell_type": "markdown",
   "id": "bClNS-GsVqiX",
   "metadata": {
    "id": "bClNS-GsVqiX"
   },
   "source": [
    "# **Question 7 [Discriminative vs Generative Models, 5+5+5+5=20 Marks]**\n"
   ]
  },
  {
   "cell_type": "markdown",
   "id": "fClS_deyVs53",
   "metadata": {
    "id": "fClS_deyVs53"
   },
   "source": [
    "## I Load the breast cancer dataset via load breast cancer in sklearn.datasets\n",
    "\n",
    "Import\n",
    "LogisticRegression from sklearn.linear model, and copy the code from Activity 3.3 for the Bayes classifier (BC). \n",
    "\n",
    "For the Bayes classifier consider the Naive Bayes variant (without shared covariance) as well as the variants with full covariance (shared and not shared).\n",
    "\n",
    "\n",
    "Perform a training/test split (with train size equal to 0.8)"
   ]
  },
  {
   "cell_type": "code",
   "execution_count": 32,
   "id": "KWjK-GDjjj90",
   "metadata": {
    "id": "KWjK-GDjjj90"
   },
   "outputs": [],
   "source": [
    "from sklearn.datasets import load_breast_cancer\n",
    "#Load the breast cancer dataset via load breast cancer in sklearn.datasets\n",
    "cancer = load_breast_cancer()\n",
    "#Perform a training/test split with train size equal to 0.8\n",
    "x_train, x_test, y_train, y_test = train_test_split_activity(cancer.data, cancer.target, train_size=0.8, random_state=0)"
   ]
  },
  {
   "cell_type": "code",
   "execution_count": 33,
   "id": "P27fbLGsjDO2",
   "metadata": {
    "id": "P27fbLGsjDO2"
   },
   "outputs": [
    {
     "name": "stdout",
     "output_type": "stream",
     "text": [
      "Train Error :  0.04175824175824172\n",
      "Test Error :  0.052631578947368474\n"
     ]
    }
   ],
   "source": [
    "from sklearn.linear_model import LogisticRegression\n",
    "\n",
    "#Dont show the warning about ConvergenceWarning: lbfgs failed to converge (status=1):STOP: TOTAL NO. of ITERATIONS REACHED LIMIT.\n",
    "from warnings import simplefilter\n",
    "from sklearn.exceptions import ConvergenceWarning\n",
    "simplefilter(\"ignore\", category=ConvergenceWarning)\n",
    "\n",
    "lr = LogisticRegression()\n",
    "lr.fit(x_train, y_train)\n",
    "y_pred = lr.predict(x_test)\n",
    "train_error = zero_one_loss(lr.predict(x_train), y_train)\n",
    "test_error = zero_one_loss(lr.predict(x_test), y_test)\n",
    "print(\"Train Error : \",train_error)\n",
    "print(\"Test Error : \", test_error)"
   ]
  },
  {
   "cell_type": "code",
   "execution_count": 34,
   "id": "a83ksuGHFR0w",
   "metadata": {
    "id": "a83ksuGHFR0w"
   },
   "outputs": [],
   "source": [
    "#Using code from Activity 3.3\n",
    "from scipy.stats import multivariate_normal\n",
    "class BayesianClassifier:\n",
    "\n",
    "    def __init__(self, shared_cov=True, cond_ind=True):\n",
    "        self.shared_cov=shared_cov\n",
    "        self.cond_ind=cond_ind\n",
    "\n",
    "    def fit(self, x, y):\n",
    "        self.classes_, class_counts = np.unique(y, return_counts=True)\n",
    "        self.n_ , self.p_ = x.shape\n",
    "        self.k_ = len(self.classes_)\n",
    "        self.cond_means_ = np.zeros(shape=(self.k_, self.p_))\n",
    "        self.cond_covs_ = np.zeros(shape=(self.k_, self.p_, self.p_))\n",
    "        \n",
    "        self.class_priors_ = class_counts/len(y)\n",
    "        for c in range(self.k_):\n",
    "            c_rows = y==c\n",
    "            self.cond_means_[c, :] = x[c_rows].mean(axis=0)\n",
    "            if self.cond_ind:\n",
    "                np.fill_diagonal(self.cond_covs_[c, :, :], x[c_rows].var(axis=0))\n",
    "            else:\n",
    "                self.cond_covs_[c, :, :] = np.cov(x[c_rows].T, bias=True)\n",
    "\n",
    "        if self.shared_cov:\n",
    "            shared_cov = np.moveaxis(self.cond_covs_, 0, -1).dot(self.class_priors_)\n",
    "            # shared_cov = (self.cond_covs_*self.class_priors_).sum(axis=0)\n",
    "            self.cond_covs_[:] = shared_cov\n",
    "\n",
    "        return self\n",
    "\n",
    "    def predict_proba(self, x):\n",
    "        m, _ = x.shape\n",
    "        cond_probs = np.zeros(shape=(m, self.k_))\n",
    "        for c in range(self.k_):\n",
    "            cond_probs[:, c] = multivariate_normal.pdf(x, self.cond_means_[c], self.cond_covs_[c], allow_singular=True)\n",
    "        marginal_probs = (cond_probs*self.class_priors_).sum(axis=1)\n",
    "        probs = np.divide((cond_probs*self.class_priors_).T,\n",
    "                          marginal_probs,\n",
    "                          where=marginal_probs>0, out=np.zeros(shape=(self.k_, m))).T\n",
    "        # probs = ((cond_probs*self.class_priors_).T / marginal_probs).T\n",
    "        return probs\n",
    "\n",
    "    def predict(self, x):\n",
    "        return np.argmax(self.predict_proba(x), axis=1)\n",
    "\n",
    "    def decision_function(self, x):\n",
    "        probs = self.predict_proba(x)\n",
    "        if self.k_ == 2:\n",
    "            return np.log(probs[:, 1]/probs[:, 0])\n",
    "        else:\n",
    "            res = np.zeros(len(x), self.k_)\n",
    "            for c in range(self.k_):\n",
    "                res[:, c]=np.log(probs[:, c]/(1-probs[:, c]))\n",
    "            return res\n",
    "        \n",
    "    def generate(self, n, c, random_state=None):\n",
    "        return multivariate_normal.rvs(self.cond_means_[c], self.cond_covs_[c], size=n, random_state=random_state)"
   ]
  },
  {
   "cell_type": "code",
   "execution_count": 35,
   "id": "9_v2CqrfkLcs",
   "metadata": {
    "id": "9_v2CqrfkLcs"
   },
   "outputs": [
    {
     "name": "stdout",
     "output_type": "stream",
     "text": [
      "nb_shared Train Error : 0.06373626373626373\n",
      "nb_shared Test Error : 0.04385964912280704\n",
      "nb Train Error : 0.07692307692307687\n",
      "nb Test Error : 0.04385964912280704\n",
      "bc_shared Train Error : 0.04395604395604391\n",
      "bc_shared Test Error : 0.02631578947368418\n",
      "bc Train Error : 0.05714285714285716\n",
      "bc Test Error : 0.02631578947368418\n"
     ]
    }
   ],
   "source": [
    "# Train Naive Bayes (shared covariances)\n",
    "nb_shared = BayesianClassifier(shared_cov=True, cond_ind=True)\n",
    "nb_shared.fit(x_train, y_train)\n",
    "train_error = zero_one_loss(nb_shared.predict(x_train), y_train)\n",
    "test_error = zero_one_loss(nb_shared.predict(x_test), y_test)\n",
    "print(\"nb_shared Train Error :\",train_error)\n",
    "print(\"nb_shared Test Error :\",test_error)\n",
    "\n",
    "# Train Naive Bayes\n",
    "\n",
    "nb = BayesianClassifier(shared_cov=False, cond_ind=True)\n",
    "nb.fit(x_train, y_train)\n",
    "\n",
    "train_error = zero_one_loss(nb.predict(x_train), y_train)\n",
    "test_error = zero_one_loss(nb.predict(x_test), y_test)\n",
    "print(\"nb Train Error :\",train_error)\n",
    "print(\"nb Test Error :\",test_error)\n",
    "\n",
    "# Train Bayes Classifier (shared covariances)\n",
    "bc_shared = BayesianClassifier(shared_cov=True, cond_ind=False)\n",
    "bc_shared.fit(x_train, y_train)\n",
    "\n",
    "train_error = zero_one_loss(bc_shared.predict(x_train), y_train)\n",
    "test_error = zero_one_loss(bc_shared.predict(x_test), y_test)\n",
    "print(\"bc_shared Train Error :\",train_error)\n",
    "print(\"bc_shared Test Error :\",test_error)\n",
    "\n",
    "# Train Bayes classifier\n",
    "bc = BayesianClassifier(shared_cov=False, cond_ind=False)\n",
    "bc.fit(x_train, y_train)\n",
    "\n",
    "train_error = zero_one_loss(bc.predict(x_train), y_train)\n",
    "test_error = zero_one_loss(bc.predict(x_test), y_test)\n",
    "print(\"bc Train Error :\",train_error)\n",
    "print(\"bc Test Error :\",test_error)"
   ]
  },
  {
   "cell_type": "markdown",
   "id": "x19s3sUjV0Ne",
   "metadata": {
    "id": "x19s3sUjV0Ne"
   },
   "source": [
    "## II Implement an experiment where you test the performance for increasing training sizes of N = 5, 10, . . . , 500. For each N sample 10 training sets of the corresponding size, fit all models, and record training and test errors."
   ]
  },
  {
   "cell_type": "code",
   "execution_count": 36,
   "id": "PFqHQMINV03m",
   "metadata": {
    "id": "PFqHQMINV03m"
   },
   "outputs": [],
   "source": [
    "#Using sklearn train_test_split instead of train_test_split_activity class\n",
    "from sklearn.model_selection import train_test_split\n",
    "\n",
    "n_reps = 10\n",
    "#Training sizes of N = 5, 10, . . . , 500\n",
    "N_values = np.arange(5, 505, 5)\n",
    "\n",
    "#Using similar skeleton from Activity 1.2\n",
    "train_errors_lr = np.zeros((len(N_values), n_reps))\n",
    "test_errors_lr = np.zeros((len(N_values), n_reps))\n",
    "\n",
    "train_errors_nb_shared = np.zeros((len(N_values), n_reps))\n",
    "test_errors_nb_shared = np.zeros((len(N_values), n_reps))\n",
    "\n",
    "train_errors_nb = np.zeros((len(N_values), n_reps))\n",
    "test_errors_nb = np.zeros((len(N_values), n_reps))\n",
    "\n",
    "train_errors_bc_shared = np.zeros((len(N_values), n_reps))\n",
    "test_errors_bc_shared = np.zeros((len(N_values), n_reps))\n",
    "\n",
    "train_errors_bc = np.zeros((len(N_values), n_reps))\n",
    "test_errors_bc = np.zeros((len(N_values), n_reps))\n",
    "\n",
    "\n",
    "for i, N in enumerate(N_values):\n",
    "    for j in range(n_reps):\n",
    "        x_train, x_test, y_train, y_test = train_test_split(cancer.data, cancer.target, train_size=N, shuffle=True, random_state=j)\n",
    "        \n",
    "        # Logistic Regression\n",
    "        lr = LogisticRegression()\n",
    "        lr.fit(x_train, y_train)\n",
    "        train_errors_lr[i, j] = zero_one_loss(lr.predict(x_train), y_train)\n",
    "        test_errors_lr[i, j] = zero_one_loss(lr.predict(x_test), y_test)\n",
    "\n",
    "        # Naive Bayes classifier (shared covariance)\n",
    "        nb_shared = BayesianClassifier(shared_cov=True, cond_ind=True)\n",
    "        nb_shared.fit(x_train, y_train)\n",
    "        train_errors_nb_shared[i, j] = zero_one_loss(nb_shared.predict(x_train), y_train)\n",
    "        test_errors_nb_shared[i, j] = zero_one_loss(nb_shared.predict(x_test), y_test)\n",
    "\n",
    "\n",
    "        # Naive Bayes classifier (without shared covariance)\n",
    "        nb = BayesianClassifier(shared_cov=False, cond_ind=True)\n",
    "        nb.fit(x_train, y_train)\n",
    "        train_errors_nb[i, j] = zero_one_loss(nb.predict(x_train), y_train)\n",
    "        test_errors_nb[i, j] = zero_one_loss(nb.predict(x_test), y_test)\n",
    "\n",
    "        # Bayes classifier (shared covariance)\n",
    "        bc_shared = BayesianClassifier(shared_cov=True, cond_ind=False)\n",
    "        bc_shared.fit(x_train, y_train)\n",
    "        train_errors_bc_shared[i, j] = zero_one_loss(bc_shared.predict(x_train), y_train)\n",
    "        test_errors_bc_shared[i, j] = zero_one_loss(bc_shared.predict(x_test), y_test)\n",
    "\n",
    "        \n",
    "        # Bayes classifier (without shared covariance)\n",
    "        bc = BayesianClassifier(shared_cov=False, cond_ind=False)\n",
    "        bc.fit(x_train, y_train)\n",
    "        train_errors_bc[i, j] = zero_one_loss(bc.predict(x_train), y_train)\n",
    "        test_errors_bc[i, j] = zero_one_loss(bc.predict(x_test), y_test)      \n",
    "\n",
    "# Compute mean of errors\n",
    "mean_train_error_lr = np.mean(train_errors_lr, axis=1)\n",
    "mean_test_error_lr = np.mean(test_errors_lr, axis=1)\n",
    "mean_train_error_nb_shared = np.mean(train_errors_nb_shared, axis=1)\n",
    "mean_test_error_nb_shared = np.mean(test_errors_nb_shared, axis=1)\n",
    "mean_train_error_nb = np.mean(train_errors_nb, axis=1)\n",
    "mean_test_error_nb = np.mean(test_errors_nb, axis=1)\n",
    "mean_train_error_bc_shared = np.mean(train_errors_bc_shared, axis=1)\n",
    "mean_test_error_bc_shared = np.mean(test_errors_bc_shared, axis=1)\n",
    "mean_train_error_bc = np.mean(train_errors_bc, axis=1)\n",
    "mean_test_error_bc = np.mean(test_errors_bc, axis=1)"
   ]
  },
  {
   "cell_type": "markdown",
   "id": "8cNkPb91V1TF",
   "metadata": {
    "id": "8cNkPb91V1TF"
   },
   "source": [
    "## III Create suitable plots that compare the mean train and test performances of all models as a function of training size. \n",
    "\n",
    "There is no need to include error bars if that makes the plot too\n",
    "hard to read."
   ]
  },
  {
   "cell_type": "code",
   "execution_count": 37,
   "id": "GMQZXTjRPUTE",
   "metadata": {
    "id": "GMQZXTjRPUTE"
   },
   "outputs": [
    {
     "data": {
      "image/png": "[encoded data removed]",
      "text/plain": [
       "<Figure size 432x288 with 1 Axes>"
      ]
     },
     "metadata": {
      "needs_background": "light"
     },
     "output_type": "display_data"
    }
   ],
   "source": [
    "# Plot the results\n",
    "plt.plot(N_values, mean_train_error_lr, label='Logistic Regression (Train)')\n",
    "plt.plot(N_values, mean_test_error_lr, label='Logistic Regression (Test)')\n",
    "plt.plot(N_values, mean_train_error_nb_shared, label='NB shared (Train)')\n",
    "plt.plot(N_values, mean_test_error_nb_shared, label='NB shared (Test)')\n",
    "plt.plot(N_values, mean_train_error_nb, label='NB (Train)')\n",
    "plt.plot(N_values, mean_test_error_nb, label='NB (Test)')\n",
    "plt.plot(N_values, mean_train_error_bc_shared, label='BC shared (Train)')\n",
    "plt.plot(N_values, mean_test_error_bc_shared, label='BC shared (Test)')\n",
    "plt.plot(N_values, mean_train_error_bc, label='BC (Train)')\n",
    "plt.plot(N_values, mean_test_error_bc, label='BC (Test)')\n",
    "plt.legend()\n",
    "plt.xlabel('train_sizes')\n",
    "plt.ylabel('Mean of zero one loss')\n",
    "plt.show()"
   ]
  },
  {
   "cell_type": "markdown",
   "id": "v2dIJa53V29A",
   "metadata": {
    "id": "v2dIJa53V29A"
   },
   "source": [
    "## **IV Formulate answers to the following questions:**\n",
    "**A** What happens to each classifiers train and test performance when the number of training\n",
    "data points is increased?"
   ]
  },
  {
   "cell_type": "markdown",
   "id": "rOugCwiiiYEL",
   "metadata": {
    "id": "rOugCwiiiYEL"
   },
   "source": [
    " Answer: Based on the results, it can be seen that increasing the number of training data points has a positive impact on both the train and test performance of the classifiers. Specifically, as the amount of training data increases, the classifiers are able to learn more from the data, resulting in improved performance on both the training and testing sets."
   ]
  },
  {
   "cell_type": "markdown",
   "id": "YwSnZSAEV8qc",
   "metadata": {
    "id": "YwSnZSAEV8qc"
   },
   "source": [
    "**B Which classifier is best suited when the training set is small, and which is best suited when the training set is big?**\n",
    "\n",
    "**C Justify your observations by providing some speculations and possible reasons.**"
   ]
  },
  {
   "cell_type": "markdown",
   "id": "w1jyxupTigmX",
   "metadata": {
    "id": "w1jyxupTigmX"
   },
   "source": [
    "Refer: https://medium.com/@sangha_deb/naive-bayes-vs-logistic-regression-a319b07a5d4c\n",
    "\n",
    "https://pomegranate.readthedocs.io/en/latest/NaiveBayes.html\n",
    "\n",
    "\n",
    "\n",
    "Answer: According to the reference and the above graph. It can be seen that Naive Bayes and Bayes Classifiers are more suitable for a small training set because it decreases both error rates to the optimal point relatively fast and requires less computation compared to Logistic regression.\n",
    "\n",
    "But when the training data keep increasing. The test error of Naive Bayes and Bayes Classifiers starts to increase. Logistic regression will be the best choice when the training set is big because it is not increasing the both of the error."
   ]
  },
  {
   "cell_type": "markdown",
   "id": "oKiS1isJWBp_",
   "metadata": {
    "id": "oKiS1isJWBp_"
   },
   "source": [
    "\n",
    "\n",
    "---\n",
    "\n"
   ]
  }
 ],
 "metadata": {
  "colab": {
   "provenance": []
  },
  "gpuClass": "standard",
  "kernelspec": {
   "display_name": "Python 3 (ipykernel)",
   "language": "python",
   "name": "python3"
  },
  "language_info": {
   "codemirror_mode": {
    "name": "ipython",
    "version": 3
   },
   "file_extension": ".py",
   "mimetype": "text/x-python",
   "name": "python",
   "nbconvert_exporter": "python",
   "pygments_lexer": "ipython3",
   "version": "3.9.12"
  }
 },
 "nbformat": 4,
 "nbformat_minor": 5
}
