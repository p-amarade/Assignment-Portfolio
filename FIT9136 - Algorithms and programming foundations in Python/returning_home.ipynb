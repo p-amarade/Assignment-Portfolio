{
 "cells": [
  {
   "cell_type": "code",
   "execution_count": 40,
   "metadata": {
    "scrolled": true
   },
   "outputs": [
    {
     "name": "stdout",
     "output_type": "stream",
     "text": [
      "Please input directions to move the traveller by input only N S E W uppercase with spacing: \n",
      "Input is empty\n",
      "Please input only N S E W in uppercase with spacing\n",
      "None\n"
     ]
    }
   ],
   "source": [
    "def home(path):\n",
    "        #check input should contain only N S E W in uppercase or not empty\n",
    "        path = path.rstrip()\n",
    "        path_list = list(path.split())\n",
    "        path_list_a = []\n",
    "        \n",
    "        if len(path) == 0 :\n",
    "            print('Input is empty' + '\\n' + 'Please input only N S E W in uppercase with spacing' )\n",
    "            return\n",
    "                                \n",
    "        for i in path_list:            \n",
    "            if i in ['N','S','E','W'] :\n",
    "                path_list_a.append(i)      \n",
    "        \n",
    "            else:         \n",
    "                print('Please input only N S E W in uppercase with spacing' + '\\n' + 'Example :N S' )\n",
    "                return\n",
    "                      \n",
    "        path_list_v = []\n",
    "        for n in path_list_a:\n",
    "            path_dict = {'N' : [1,0], 'S' : [-1,0], 'E' : [0,1], 'W' : [0,-1]}\n",
    "            path_list_v.append(path_dict[n])\n",
    "\n",
    "        #if path_list_v == 0 It will be at the start.\n",
    "        a = sum(p[0] for p in path_list_v)\n",
    "        b = sum(p[1] for p in path_list_v)\n",
    "        c = [a,b]\n",
    "        if c == [0,0]:\n",
    "            result = 'True'\n",
    "            return result\n",
    "                \n",
    "        else:\n",
    "            result ='False'\n",
    "            return result\n",
    "        \n",
    "home(input('Please input directions to move the traveller by input only N S E W uppercase with spacing:'))"
   ]
  },
  {
   "cell_type": "code",
   "execution_count": null,
   "metadata": {},
   "outputs": [],
   "source": []
  },
  {
   "cell_type": "code",
   "execution_count": null,
   "metadata": {},
   "outputs": [],
   "source": []
  }
 ],
 "metadata": {
  "kernelspec": {
   "display_name": "Python 3 (ipykernel)",
   "language": "python",
   "name": "python3"
  },
  "language_info": {
   "codemirror_mode": {
    "name": "ipython",
    "version": 3
   },
   "file_extension": ".py",
   "mimetype": "text/x-python",
   "name": "python",
   "nbconvert_exporter": "python",
   "pygments_lexer": "ipython3",
   "version": "3.9.12"
  }
 },
 "nbformat": 4,
 "nbformat_minor": 4
}
