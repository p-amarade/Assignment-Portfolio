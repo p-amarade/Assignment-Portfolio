{
 "cells": [
  {
   "cell_type": "code",
   "execution_count": 1,
   "metadata": {},
   "outputs": [
    {
     "name": "stdout",
     "output_type": "stream",
     "text": [
      "Please input list of integer number from 0-10 and separate by space\n",
      "Any string, floating number and integer number that not 0-10 will be removed :1 2 4 5\n"
     ]
    }
   ],
   "source": [
    "def signature_uncommon(numbers):\n",
    "    try:        \n",
    "        list_number = []\n",
    "        if type(numbers) != list :\n",
    "            numbers = numbers.split()\n",
    "        \n",
    "        # removed string and floating number \n",
    "        # convert and append only integer number\n",
    "        for i in numbers:\n",
    "            if i.isdigit() == True:\n",
    "                list_number.append(int(i))\n",
    "                            \n",
    "        # removed integer number that not 1-10                \n",
    "        list_number2 = []\n",
    "        for t in list_number :\n",
    "            if t >= 0 and t <= 10 :                \n",
    "                list_number2.append(int(t))                \n",
    "            \n",
    "        list_number_sorted = sorted(list_number2, reverse=True)  \n",
    "        result = []\n",
    "        \n",
    "        #Largest Item        \n",
    "        number_max = list_number_sorted[0]\n",
    "        \n",
    "        #Range        \n",
    "        Range = number_max - list_number_sorted[-1]\n",
    "        \n",
    "        #Total\n",
    "        total_number = 0\n",
    "        for x in list_number_sorted:        \n",
    "            total_number = total_number+x\n",
    "            \n",
    "        #Integer Count,\n",
    "        integer_count = []\n",
    "        for s in range(0,11):\n",
    "            count = 0\n",
    "            for item in list_number_sorted :\n",
    "                if s == item :\n",
    "                    count = count+1\n",
    "            integer_count.append(count)\n",
    "            \n",
    "        #Result as format[total,integer count,Largest Item,range]\n",
    "        result.append(total_number)\n",
    "        result.extend((integer_count,number_max,Range))\n",
    "        return result\n",
    "\n",
    "        \n",
    "    except :\n",
    "        print('Your input is empty or not contain any integer number from 0-10')\n",
    "\n",
    "if __name__ == \"__main__\":\n",
    "    signature_uncommon(input('Please input list of integer number from 0-10 and separate by space' + '\\n' + 'Any string, floating number and integer number that not 0-10 will be removed :'))\n",
    "\n",
    "    \n"
   ]
  },
  {
   "cell_type": "code",
   "execution_count": null,
   "metadata": {},
   "outputs": [],
   "source": []
  },
  {
   "cell_type": "code",
   "execution_count": null,
   "metadata": {},
   "outputs": [],
   "source": []
  }
 ],
 "metadata": {
  "kernelspec": {
   "display_name": "Python 3 (ipykernel)",
   "language": "python",
   "name": "python3"
  },
  "language_info": {
   "codemirror_mode": {
    "name": "ipython",
    "version": 3
   },
   "file_extension": ".py",
   "mimetype": "text/x-python",
   "name": "python",
   "nbconvert_exporter": "python",
   "pygments_lexer": "ipython3",
   "version": "3.9.12"
  }
 },
 "nbformat": 4,
 "nbformat_minor": 4
}
