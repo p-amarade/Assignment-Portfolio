{
 "cells": [
  {
   "cell_type": "code",
   "execution_count": 1,
   "metadata": {},
   "outputs": [],
   "source": [
    "#1.1.1\n",
    "# Import SparkConf class into program by using similar code from tutorial\n",
    "from pyspark import SparkConf\n",
    "# local[*]: run Spark in local mode with as many working processors as logical cores on your machine\n",
    "master = \"local[*]\"\n",
    "# The `Assignment 1` shown on the Spark cluster UI page\n",
    "app_name = \"Assignment 1\"\n",
    "# Setup configuration parameters for Spark\n",
    "spark_conf = SparkConf().setMaster(master).setAppName(app_name)\n",
    "# Import SparkContext and SparkSession classes\n",
    "from pyspark import SparkContext # Spark\n",
    "from pyspark.sql import SparkSession # Spark SQL\n",
    "sc = SparkContext.getOrCreate(spark_conf)\n",
    "sc.setLogLevel('ERROR')"
   ]
  },
  {
   "cell_type": "code",
   "execution_count": 2,
   "metadata": {},
   "outputs": [],
   "source": [
    "#1.1.2\n",
    "#Import csv file by using sc.textFile\n",
    "trip_rdd = sc.textFile('data/trip.csv')"
   ]
  },
  {
   "cell_type": "code",
   "execution_count": 3,
   "metadata": {},
   "outputs": [],
   "source": [
    "#1.1.3\n",
    "#Import csv file by using sc.textFile\n",
    "passenger_rdd = sc.textFile('data/passenger.csv')"
   ]
  },
  {
   "cell_type": "code",
   "execution_count": 4,
   "metadata": {},
   "outputs": [],
   "source": [
    "#1.1.4\n",
    "#Remove the header row by using .first() and filter\n",
    "header_trip = trip_rdd.first()\n",
    "trip_rdd1 = trip_rdd.filter(lambda x: x != header_trip)\n",
    "#Remove the header row by using .first() and filter\n",
    "header_passenger = passenger_rdd.first()\n",
    "passenger_rdd1 = passenger_rdd.filter(lambda x: x != header_passenger)\n"
   ]
  },
  {
   "cell_type": "code",
   "execution_count": 5,
   "metadata": {},
   "outputs": [
    {
     "data": {
      "text/plain": [
       "['a84c0db2,cb64172e,2ea4359d,43006,9/8/2019 10:01:28 PM,9/8/2019 10:15:54 PM,0.3,1.92,4.36',\n",
       " 'a84c2d10,3034e6fe,e1bd0c8d,43006,7/1/2019 8:56:28 PM,7/1/2019 9:22:09 PM,0,9.36,6.91',\n",
       " 'a84c3e75,93fb6802,75e6d450,43050,8/20/2019 9:30:46 PM,8/20/2019 9:46:48 PM,0,4.39,3.48',\n",
       " 'a84c3f6f,25fc9273,5ba48e89,43020,9/8/2019 2:42:41 AM,9/8/2019 2:59:56 AM,0,2.04,1.54',\n",
       " 'a84c5ce2,484c4d0c,fdb2ef59,43006,6/10/2019 9:29:18 AM,6/10/2019 9:55:36 AM,0,7.37,5.83']"
      ]
     },
     "execution_count": 5,
     "metadata": {},
     "output_type": "execute_result"
    }
   ],
   "source": [
    "#Show 5 records by using .take(5)\n",
    "trip_rdd1.take(5)"
   ]
  },
  {
   "cell_type": "code",
   "execution_count": 6,
   "metadata": {},
   "outputs": [
    {
     "data": {
      "text/plain": [
       "['00000fab,5/11/2019 8:23:54 PM',\n",
       " '0000149d,12/24/2018 9:21:33 PM',\n",
       " '00002b66,9/20/2018 9:08:24 PM',\n",
       " '00002bc7,7/28/2019 11:27:56 AM',\n",
       " '0000332e,2/21/2019 11:34:24 PM']"
      ]
     },
     "execution_count": 6,
     "metadata": {},
     "output_type": "execute_result"
    }
   ],
   "source": [
    "passenger_rdd1.take(5)"
   ]
  },
  {
   "cell_type": "code",
   "execution_count": 7,
   "metadata": {},
   "outputs": [
    {
     "name": "stdout",
     "output_type": "stream",
     "text": [
      "trip_rdd partitions: 6\n",
      "passenger_rdd partitions: 2\n"
     ]
    }
   ],
   "source": [
    "#1.2.1\n",
    "#Print default number of partitions by using getNumPartitions()\n",
    "print('trip_rdd partitions:',trip_rdd.getNumPartitions())\n",
    "print('passenger_rdd partitions:',passenger_rdd.getNumPartitions())"
   ]
  },
  {
   "cell_type": "code",
   "execution_count": 8,
   "metadata": {},
   "outputs": [],
   "source": [
    "#1.2.2a\n",
    "import regex as re\n",
    "# Implement function with logic to be applied to the RDDs by using similar code from tutorial\n",
    "def parseRecord122a(line):\n",
    "    # Split line separated by comma\n",
    "    array_line = line.split(',')\n",
    "    # Choose only index 1 for key and call_time and id for value\n",
    "    return (array_line[1], [array_line[1],array_line[0]])\n",
    "\n",
    "\n",
    "map_passenger_rdd122a = passenger_rdd1.map(parseRecord122a)\n",
    "map_passenger_rdd122a = map_passenger_rdd122a.map(lambda x: (re.sub('.*2019.*','In 2019',x[0]),x[1]))\n",
    "map_passenger_rdd122a = map_passenger_rdd122a.map(lambda x: (re.sub('^((?!2019).)*$','Not in 2019',x[0]),x[1]))\n"
   ]
  },
  {
   "cell_type": "code",
   "execution_count": 9,
   "metadata": {},
   "outputs": [
    {
     "data": {
      "text/plain": [
       "[('In 2019', ['5/11/2019 8:23:54 PM', '00000fab']),\n",
       " ('In 2019', ['7/28/2019 11:27:56 AM', '00002bc7']),\n",
       " ('In 2019', ['2/21/2019 11:34:24 PM', '0000332e']),\n",
       " ('In 2019', ['8/2/2019 8:01:07 AM', '000048aa']),\n",
       " ('In 2019', ['7/11/2019 3:39:47 AM', '0000497f'])]"
      ]
     },
     "execution_count": 9,
     "metadata": {},
     "output_type": "execute_result"
    }
   ],
   "source": [
    "map_passenger_rdd122a.filter(lambda x: x[0] == 'In 2019').take(5)"
   ]
  },
  {
   "cell_type": "code",
   "execution_count": 10,
   "metadata": {},
   "outputs": [
    {
     "data": {
      "text/plain": [
       "[('Not in 2019', ['12/24/2018 9:21:33 PM', '0000149d']),\n",
       " ('Not in 2019', ['9/20/2018 9:08:24 PM', '00002b66']),\n",
       " ('Not in 2019', ['11/3/2017 4:44:59 AM', '00003af1']),\n",
       " ('Not in 2019', ['3/9/2018 9:10:11 AM', '00004a41']),\n",
       " ('Not in 2019', ['10/14/2018 2:19:04 AM', '00008cd6'])]"
      ]
     },
     "execution_count": 10,
     "metadata": {},
     "output_type": "execute_result"
    }
   ],
   "source": [
    "map_passenger_rdd122a.filter(lambda x: x[0] == 'Not in 2019').take(5)"
   ]
  },
  {
   "cell_type": "code",
   "execution_count": 11,
   "metadata": {},
   "outputs": [],
   "source": [
    "#1.2.2b\n",
    "spark = SparkSession(sc)\n",
    "#Convert rdd to dataframe\n",
    "#Fix error by https://stackoverflow.com/questions/32788387/pipelinedrdd-object-has-no-attribute-todf-in-pyspark\n",
    "hasattr(map_passenger_rdd122a, \"toDF\")\n",
    "map_passenger_rdd122b = map_passenger_rdd122a.map(lambda x: (x[0],x[1][0],x[1][1]))\n",
    "df_122b = map_passenger_rdd122b.toDF()\n",
    "\n",
    "#Repartition by range using first column because it already divide by In 2019 and Not in 2019\n",
    "df_range122b = df_122b.repartitionByRange(\"_1\")"
   ]
  },
  {
   "cell_type": "code",
   "execution_count": 12,
   "metadata": {},
   "outputs": [
    {
     "name": "stdout",
     "output_type": "stream",
     "text": [
      "NUMBER OF PARTITIONS: 3\n",
      "Partition 0: 556856 records\n",
      "Partition 1: 678926 records\n",
      "Partition 2: 0 records\n"
     ]
    }
   ],
   "source": [
    "#1.2.2c\n",
    "from pyspark.rdd import RDD\n",
    "\n",
    "#Adjust the print partition code from tutorial to show only number of record in each partition\n",
    "\n",
    "def print_partitions(data):\n",
    "    if isinstance(data, RDD):\n",
    "        numPartitions = data.getNumPartitions()\n",
    "        partitions = data.glom().collect()\n",
    "    else:\n",
    "        numPartitions = data.rdd.getNumPartitions()\n",
    "        partitions = data.rdd.glom().collect()\n",
    "    \n",
    "    print(f\"NUMBER OF PARTITIONS: {numPartitions}\")\n",
    "    for index, partition in enumerate(partitions):\n",
    "        # show partition even have 0 record\n",
    "        if len(partition) >= 0:\n",
    "            print(f\"Partition {index}: {len(partition)} records\")\n",
    "\n",
    "            \n",
    "print_partitions(df_range122b)"
   ]
  },
  {
   "cell_type": "code",
   "execution_count": 13,
   "metadata": {},
   "outputs": [
    {
     "data": {
      "text/plain": [
       "2318357"
      ]
     },
     "execution_count": 13,
     "metadata": {},
     "output_type": "execute_result"
    }
   ],
   "source": [
    "#1.3.1\n",
    "# Implement function with logic to be applied to the RDDs by using similar code from tutorial\n",
    "def parseRecord131(line):\n",
    "    # Split line separated by comma\n",
    "    array_line = line.split(',')\n",
    "    # Select id trip_distance and surge_rate column\n",
    "    return (array_line[0], array_line[6],array_line[7])\n",
    "\n",
    "map_trip_rdd131 = trip_rdd1.map(parseRecord131)\n",
    "#Count before filtering\n",
    "map_trip_rdd131.count()"
   ]
  },
  {
   "cell_type": "code",
   "execution_count": 14,
   "metadata": {},
   "outputs": [
    {
     "data": {
      "text/plain": [
       "[('a84c0db2', '0.3', '1.92'),\n",
       " ('a84c2d10', '0', '9.36'),\n",
       " ('a84c3e75', '0', '4.39'),\n",
       " ('a84c3f6f', '0', '2.04'),\n",
       " ('a84c5ce2', '0', '7.37')]"
      ]
     },
     "execution_count": 14,
     "metadata": {},
     "output_type": "execute_result"
    }
   ],
   "source": [
    "map_trip_rdd131.take(5)"
   ]
  },
  {
   "cell_type": "code",
   "execution_count": 15,
   "metadata": {},
   "outputs": [
    {
     "data": {
      "text/plain": [
       "23245"
      ]
     },
     "execution_count": 15,
     "metadata": {},
     "output_type": "execute_result"
    }
   ],
   "source": [
    "#Remvoe null from trip_distance and surge_rate remove\n",
    "rdd_131 = map_trip_rdd131.filter(lambda x: x[1] == '' or x[2] == '')\n",
    "#Count after filtering\n",
    "rdd_131.count()"
   ]
  },
  {
   "cell_type": "code",
   "execution_count": 16,
   "metadata": {},
   "outputs": [
    {
     "data": {
      "text/plain": [
       "[('43020', 0.03601068571614701),\n",
       " ('43050', 0.05548070794570697),\n",
       " ('43278', 0.022855663068084002),\n",
       " ('43116', 0.05953757146336632),\n",
       " ('43006', 0.03493899396743278),\n",
       " ('43179', 0.07074122889438615)]"
      ]
     },
     "execution_count": 16,
     "metadata": {},
     "output_type": "execute_result"
    }
   ],
   "source": [
    "#1.3.2\n",
    "# Implement function similar to 1.3.1\n",
    "def parseRecord(line):\n",
    "    # Split line separated by comma\n",
    "    array_line = line.split(',')   \n",
    "    # Choose only index 3 and 6 for this rdd\n",
    "    return (array_line[3], array_line[6])\n",
    "\n",
    "map_trip_rdd132 = trip_rdd1.map(parseRecord)\n",
    "map_trip_rdd132 = map_trip_rdd132.filter(lambda x: x[1] != '')\n",
    "map_trip_rdd132 = map_trip_rdd132.map(lambda x: (x[0],float(x[1])))\n",
    "\n",
    "#Using the code from\n",
    "#https://stackoverflow.com/questions/29930110/calculating-the-averages-for-each-key-in-a-pairwise-k-v-rdd-in-spark-with-pyth\n",
    "#to groupby and find average for each city id\n",
    "map_trip_rdd132 = map_trip_rdd132.aggregateByKey((0,0),lambda a,b:(a[0]+b,a[1] +1),lambda a,b:(a[0]+b[0],a[1]+b[1]))\n",
    "map_trip_rdd132.mapValues(lambda v: v[0]/v[1]).collect()\n"
   ]
  },
  {
   "cell_type": "code",
   "execution_count": 17,
   "metadata": {},
   "outputs": [],
   "source": [
    "#1.3.3\n",
    "def parseRecord133(line):\n",
    "    # Split line separated by comma\n",
    "    array_line = line.split(',')    \n",
    "    # Choose only driver id and trip_distance for this rdd\n",
    "    return array_line[2],array_line[7]\n",
    "\n",
    "map_trip_rdd133 = trip_rdd1.map(parseRecord133)\n",
    "\n",
    "#Filter null out of rdd.If the column have null.It cannot convert to float.\n",
    "map_trip_rdd133 = map_trip_rdd133.filter(lambda x: x[1] != '' )\n",
    "#Convert distance column to float\n",
    "map_trip_rdd133 = map_trip_rdd133.map(lambda x: (x[0],float(x[1])))\n",
    "#Filter negative value out of rdd\n",
    "map_trip_rdd133 = map_trip_rdd133.filter(lambda x: x[1] > 0)"
   ]
  },
  {
   "cell_type": "code",
   "execution_count": 18,
   "metadata": {},
   "outputs": [
    {
     "data": {
      "text/plain": [
       "('771e01b2', 296.1)"
      ]
     },
     "execution_count": 18,
     "metadata": {},
     "output_type": "execute_result"
    }
   ],
   "source": [
    "#Find max distance value\n",
    "map_trip_rdd133.max(lambda x:x[1])"
   ]
  },
  {
   "cell_type": "code",
   "execution_count": 19,
   "metadata": {},
   "outputs": [
    {
     "data": {
      "text/plain": [
       "[('771e01b2', 296.1)]"
      ]
     },
     "execution_count": 19,
     "metadata": {},
     "output_type": "execute_result"
    }
   ],
   "source": [
    "#The max driver id is 771e01b2\n",
    "map_trip_rdd133.filter(lambda x: x[0] == '771e01b2').collect()"
   ]
  },
  {
   "cell_type": "code",
   "execution_count": 20,
   "metadata": {},
   "outputs": [
    {
     "data": {
      "text/plain": [
       "('bc087229', 0.01)"
      ]
     },
     "execution_count": 20,
     "metadata": {},
     "output_type": "execute_result"
    }
   ],
   "source": [
    "#Find min distance value\n",
    "map_trip_rdd133.min(lambda x:x[1])"
   ]
  },
  {
   "cell_type": "code",
   "execution_count": 21,
   "metadata": {},
   "outputs": [
    {
     "data": {
      "text/plain": [
       "[('bc087229', 0.01),\n",
       " ('bc087229', 2.88),\n",
       " ('bc087229', 1.17),\n",
       " ('bc087229', 5.24),\n",
       " ('bc087229', 6.73),\n",
       " ('bc087229', 1.73),\n",
       " ('bc087229', 3.23),\n",
       " ('bc087229', 1.17),\n",
       " ('bc087229', 4.42),\n",
       " ('bc087229', 3.04),\n",
       " ('bc087229', 3.63),\n",
       " ('bc087229', 1.65),\n",
       " ('bc087229', 2.83)]"
      ]
     },
     "execution_count": 21,
     "metadata": {},
     "output_type": "execute_result"
    }
   ],
   "source": [
    "#The min driver id is bc087229\n",
    "map_trip_rdd133.filter(lambda x: x[0] == 'bc087229').collect()"
   ]
  },
  {
   "cell_type": "code",
   "execution_count": 22,
   "metadata": {},
   "outputs": [],
   "source": [
    "#2.1.1\n",
    "#Read 3 csv files into dataframes\n",
    "df_trip = spark.read.csv(\"data/trip.csv\",header=True,inferSchema=True)\n",
    "df_passenger = spark.read.csv(\"data/passenger.csv\",header=True,inferSchema=True)\n",
    "df_city = spark.read.csv(\"data/city.csv\",header=True,inferSchema=True)"
   ]
  },
  {
   "cell_type": "code",
   "execution_count": 23,
   "metadata": {},
   "outputs": [
    {
     "name": "stdout",
     "output_type": "stream",
     "text": [
      "root\n",
      " |-- id: string (nullable = true)\n",
      " |-- driver_id: string (nullable = true)\n",
      " |-- passenger_id: string (nullable = true)\n",
      " |-- city_id: integer (nullable = true)\n",
      " |-- call_time: string (nullable = true)\n",
      " |-- finish_time: string (nullable = true)\n",
      " |-- surge_rate: double (nullable = true)\n",
      " |-- trip_distance: double (nullable = true)\n",
      " |-- trip_fare: double (nullable = true)\n",
      "\n",
      "root\n",
      " |-- id: string (nullable = true)\n",
      " |-- first_call_time: string (nullable = true)\n",
      "\n",
      "root\n",
      " |-- id: integer (nullable = true)\n",
      " |-- name: string (nullable = true)\n",
      "\n"
     ]
    }
   ],
   "source": [
    "#2.1.2\n",
    "#Using printScheme to display schema\n",
    "df_trip.printSchema()\n",
    "df_passenger.printSchema()\n",
    "df_city.printSchema()"
   ]
  },
  {
   "cell_type": "code",
   "execution_count": 24,
   "metadata": {},
   "outputs": [
    {
     "name": "stdout",
     "output_type": "stream",
     "text": [
      "+-------+------------+\n",
      "|city_id|        name|\n",
      "+-------+------------+\n",
      "|  42868|      Mordor|\n",
      "|  42948|      Erebor|\n",
      "|  43006|Minas Tirith|\n",
      "|  43020|    Isengard|\n",
      "|  43050|      Gondor|\n",
      "|  43094|       Moria|\n",
      "|  43116|       Rohan|\n",
      "|  43179|   Rivendell|\n",
      "|  43244| Minas Ithis|\n",
      "|  43278|   The Shire|\n",
      "+-------+------------+\n",
      "\n"
     ]
    }
   ],
   "source": [
    "#2.2.1\n",
    "#Rename the id column by using withColumnRenamed()\n",
    "df_city = df_city.withColumnRenamed('id', 'city_id')\n",
    "df_city.show()"
   ]
  },
  {
   "cell_type": "code",
   "execution_count": 25,
   "metadata": {},
   "outputs": [
    {
     "name": "stdout",
     "output_type": "stream",
     "text": [
      "+------------+--------+---------+------------+-------+--------------------+--------------------+----------+-------------+---------+\n",
      "|        city|      id|driver_id|passenger_id|city_id|           call_time|         finish_time|surge_rate|trip_distance|trip_fare|\n",
      "+------------+--------+---------+------------+-------+--------------------+--------------------+----------+-------------+---------+\n",
      "|Minas Tirith|a84c0db2| cb64172e|    2ea4359d|  43006|9/8/2019 10:01:28 PM|9/8/2019 10:15:54 PM|       0.3|         1.92|     4.36|\n",
      "|Minas Tirith|a84c2d10| 3034e6fe|    e1bd0c8d|  43006| 7/1/2019 8:56:28 PM| 7/1/2019 9:22:09 PM|       0.0|         9.36|     6.91|\n",
      "|      Gondor|a84c3e75| 93fb6802|    75e6d450|  43050|8/20/2019 9:30:46 PM|8/20/2019 9:46:48 PM|       0.0|         4.39|     3.48|\n",
      "|    Isengard|a84c3f6f| 25fc9273|    5ba48e89|  43020| 9/8/2019 2:42:41 AM| 9/8/2019 2:59:56 AM|       0.0|         2.04|     1.54|\n",
      "|Minas Tirith|a84c5ce2| 484c4d0c|    fdb2ef59|  43006|6/10/2019 9:29:18 AM|6/10/2019 9:55:36 AM|       0.0|         7.37|     5.83|\n",
      "|   Rivendell|a84c7980| 4ae02c4b|    f9cbc467|  43179|8/26/2019 10:20:3...|8/26/2019 10:33:3...|       0.0|         2.14|     3.31|\n",
      "|      Gondor|a84ca16d| c4b85240|    8030fcc0|  43050|6/21/2019 8:27:10 PM|6/21/2019 8:37:05 PM|       0.0|         2.05|     1.28|\n",
      "|   The Shire|a84cc24a| 0fe2603a|    32f96337|  43278| 8/3/2019 9:30:58 AM| 8/3/2019 9:55:58 AM|       0.0|         6.89|     5.55|\n",
      "|       Rohan|a84cd4a7| fdb18901|    93be5cbe|  43116|5/18/2019 6:39:19 PM|5/18/2019 7:12:48 PM|       0.0|         9.05|      4.0|\n",
      "|   Rivendell|a84cd524| a9788733|    08ca0600|  43179|7/14/2019 6:13:04 AM|7/14/2019 6:47:53 AM|       0.0|        11.73|     9.47|\n",
      "|   Rivendell|a84ce309| e963f1dc|    3f0ee90c|  43179| 7/1/2019 7:41:33 AM| 7/1/2019 8:00:28 AM|       0.0|         4.96|     1.92|\n",
      "|Minas Tirith|a84ceb22| 8f928bfa|    d0bfc738|  43006|6/30/2019 3:09:18 AM|6/30/2019 3:23:40 AM|       0.0|         4.89|     5.33|\n",
      "|      Gondor|a84d1229| a1ed4df4|    15ea3984|  43050|9/19/2019 9:02:23 PM|9/19/2019 9:18:36 PM|       0.0|         3.53|     5.09|\n",
      "|       Rohan|a84d12f9| 6e04ec35|    4871a6f6|  43116|8/25/2019 10:19:3...|8/25/2019 10:32:1...|       0.0|         5.48|     2.34|\n",
      "|   The Shire|a84d2109| effcb648|    2a87a9d3|  43278|5/16/2019 7:29:44 PM|5/16/2019 7:44:08 PM|       0.0|         3.47|     3.86|\n",
      "|       Rohan|a84d23c2| fd9a3aae|    7f9a1c11|  43116|7/15/2019 8:30:30 AM|7/15/2019 8:56:46 AM|      -0.1|         null|    12.17|\n",
      "|       Rohan|a84d27ba| 3c48ac2b|    b71c48b4|  43116| 5/9/2019 6:08:15 AM| 5/9/2019 6:25:05 AM|       0.2|         4.55|     4.12|\n",
      "|Minas Tirith|a84d29a0| 69be8872|    f37281fe|  43006|8/11/2019 9:49:49 PM|8/11/2019 10:32:2...|       0.0|        28.14|     9.76|\n",
      "|Minas Tirith|a84d31ee| 4f12d410|    b152587c|  43006|7/7/2019 11:53:51 PM|7/8/2019 12:12:26 AM|       0.0|         9.32|     5.14|\n",
      "|   Rivendell|a84d5345| 6ce4136c|    8bfa5340|  43179|9/22/2019 8:40:02 AM|9/22/2019 8:50:16 AM|       0.4|         1.97|     3.84|\n",
      "+------------+--------+---------+------------+-------+--------------------+--------------------+----------+-------------+---------+\n",
      "only showing top 20 rows\n",
      "\n"
     ]
    }
   ],
   "source": [
    "#2.2.2\n",
    "#Join by using .join() at df_city.city_id and df_trip.city_id\n",
    "#Also drop duplicate city_id column and change column 'name' to 'city'\n",
    "df_222 = df_city.join(df_trip,df_city.city_id==df_trip.city_id).drop(df_city.city_id).withColumnRenamed('name', 'city')\n",
    "df_222.show()"
   ]
  },
  {
   "cell_type": "code",
   "execution_count": 26,
   "metadata": {},
   "outputs": [
    {
     "name": "stdout",
     "output_type": "stream",
     "text": [
      "+------------+--------+---------+------------+-------+--------------------+--------------------+----------+-------------+---------+\n",
      "|        city|      id|driver_id|passenger_id|city_id|           call_time|         finish_time|surge_rate|trip_distance|trip_fare|\n",
      "+------------+--------+---------+------------+-------+--------------------+--------------------+----------+-------------+---------+\n",
      "|Minas Tirith|a84c0db2| cb64172e|    2ea4359d|  43006|9/8/2019 10:01:28 PM|9/8/2019 10:15:54 PM|       0.3|         1.92|     4.36|\n",
      "|Minas Tirith|a84c2d10| 3034e6fe|    e1bd0c8d|  43006| 7/1/2019 8:56:28 PM| 7/1/2019 9:22:09 PM|       0.0|         9.36|     6.91|\n",
      "|      Gondor|a84c3e75| 93fb6802|    75e6d450|  43050|8/20/2019 9:30:46 PM|8/20/2019 9:46:48 PM|       0.0|         4.39|     3.48|\n",
      "|    Isengard|a84c3f6f| 25fc9273|    5ba48e89|  43020| 9/8/2019 2:42:41 AM| 9/8/2019 2:59:56 AM|       0.0|         2.04|     1.54|\n",
      "|Minas Tirith|a84c5ce2| 484c4d0c|    fdb2ef59|  43006|6/10/2019 9:29:18 AM|6/10/2019 9:55:36 AM|       0.0|         7.37|     5.83|\n",
      "+------------+--------+---------+------------+-------+--------------------+--------------------+----------+-------------+---------+\n",
      "only showing top 5 rows\n",
      "\n"
     ]
    }
   ],
   "source": [
    "#2.2.3\n",
    "#Using filter to find trip_distance and trip_fare that larger than 0\n",
    "df_223 =df_222.filter((df_222.trip_distance > 0) & (df_222.trip_fare > 0))\n",
    "df_223.show(5)"
   ]
  },
  {
   "cell_type": "code",
   "execution_count": 27,
   "metadata": {},
   "outputs": [
    {
     "name": "stdout",
     "output_type": "stream",
     "text": [
      "+--------+---------+------------+-------------+\n",
      "|      id|driver_id|passenger_id|trip_distance|\n",
      "+--------+---------+------------+-------------+\n",
      "|7f4a1ec5| 704642b5|    771e01b2|        296.1|\n",
      "|30bb5f34| 7119b481|    d5e5e5d8|       261.71|\n",
      "|ac1861e1| ceccad76|    2a2f3fc5|       244.82|\n",
      "|4525a2bf| bdb22ca4|    b7f9f488|       236.14|\n",
      "|b60c4614| 70b9733e|    09ec3959|       235.42|\n",
      "+--------+---------+------------+-------------+\n",
      "only showing top 5 rows\n",
      "\n"
     ]
    }
   ],
   "source": [
    "#2.2.4\n",
    "#Using .sort() and ascending=False at to trip_distance to sort by descending order\n",
    "df_223.select('id','driver_id','passenger_id','trip_distance').sort(df_223.trip_distance, ascending=False).show(5)"
   ]
  },
  {
   "cell_type": "code",
   "execution_count": 28,
   "metadata": {},
   "outputs": [],
   "source": [
    "#2.3.1\n",
    "import pyspark.sql.functions as F\n",
    "from pyspark.sql.functions import udf\n",
    "from pyspark.sql.types import DateType,BooleanType\n",
    "from datetime import datetime\n",
    "\n",
    "#Create function to extract only month/day/year to new column\n",
    "def extract_year(s):\n",
    "    return re.findall('\\d/\\d+/\\d\\d\\d\\d',s)\n",
    "\n",
    "#First Register the function as UDF\n",
    "extract_year_udf = udf(extract_year)\n",
    "\n",
    "#Call the function\n",
    "df_231 = df_222.select(df_222['*'],extract_year_udf('call_time').alias(\"date\"))\n",
    "\n",
    "#Remove bracket date column\n",
    "#Refer to https://stackoverflow.com/questions/71827270/pyspark-regexp-replace-and-replace-it-with-captured-group \n",
    "#https://stackoverflow.com/questions/48283924/remove-replace-characters-using-pyspark\n",
    "#and https://stackoverflow.com/questions/62613949/replace-parentheses-in-pyspark-with-replace-regex\n",
    "df_231 = df_231.withColumn(\"date\", F.regexp_replace(F.regexp_replace(F.regexp_replace(\"date\", \"\\\\]\\\\[\", \"-\"), \"\\\\[\", \"\"), \"\\\\]\", \"\"))\n",
    "#Change '/' to '-'\n",
    "df_231 = df_231.withColumn('date', F.regexp_replace('date', '/', '-'))\n",
    "\n",
    "\n",
    "#Change date column datatype by to_date\n",
    "#Some part of following code from https://stackoverflow.com/questions/57742725/get-weekday-name-from-date-in-pyspark-python\n",
    "#And https://stackoverflow.com/questions/62943941/to-date-fails-to-parse-date-in-spark-3-0 to avoid error\n",
    "spark.sql(\"set spark.sql.legacy.timeParserPolicy=LEGACY\")\n",
    "from pyspark.sql.functions import dayofweek\n",
    "df_231 = df_231.withColumn(\"date\", F.to_date((\"date\"), \"MM-dd-yyyy\"))\n",
    "df_231 = df_231.withColumn(\"date\", dayofweek((\"date\")))"
   ]
  },
  {
   "cell_type": "code",
   "execution_count": 29,
   "metadata": {},
   "outputs": [
    {
     "name": "stdout",
     "output_type": "stream",
     "text": [
      "+------------+--------+---------+------------+-------+--------------------+--------------------+----------+-------------+---------+----------+\n",
      "|        city|      id|driver_id|passenger_id|city_id|           call_time|         finish_time|surge_rate|trip_distance|trip_fare|On holiday|\n",
      "+------------+--------+---------+------------+-------+--------------------+--------------------+----------+-------------+---------+----------+\n",
      "|Minas Tirith|a84c0db2| cb64172e|    2ea4359d|  43006|9/8/2019 10:01:28 PM|9/8/2019 10:15:54 PM|       0.3|         1.92|     4.36|      true|\n",
      "|Minas Tirith|a84c2d10| 3034e6fe|    e1bd0c8d|  43006| 7/1/2019 8:56:28 PM| 7/1/2019 9:22:09 PM|       0.0|         9.36|     6.91|     false|\n",
      "|      Gondor|a84c3e75| 93fb6802|    75e6d450|  43050|8/20/2019 9:30:46 PM|8/20/2019 9:46:48 PM|       0.0|         4.39|     3.48|     false|\n",
      "|    Isengard|a84c3f6f| 25fc9273|    5ba48e89|  43020| 9/8/2019 2:42:41 AM| 9/8/2019 2:59:56 AM|       0.0|         2.04|     1.54|      true|\n",
      "|Minas Tirith|a84c5ce2| 484c4d0c|    fdb2ef59|  43006|6/10/2019 9:29:18 AM|6/10/2019 9:55:36 AM|       0.0|         7.37|     5.83|     false|\n",
      "|   Rivendell|a84c7980| 4ae02c4b|    f9cbc467|  43179|8/26/2019 10:20:3...|8/26/2019 10:33:3...|       0.0|         2.14|     3.31|     false|\n",
      "|      Gondor|a84ca16d| c4b85240|    8030fcc0|  43050|6/21/2019 8:27:10 PM|6/21/2019 8:37:05 PM|       0.0|         2.05|     1.28|     false|\n",
      "|   The Shire|a84cc24a| 0fe2603a|    32f96337|  43278| 8/3/2019 9:30:58 AM| 8/3/2019 9:55:58 AM|       0.0|         6.89|     5.55|      true|\n",
      "|       Rohan|a84cd4a7| fdb18901|    93be5cbe|  43116|5/18/2019 6:39:19 PM|5/18/2019 7:12:48 PM|       0.0|         9.05|      4.0|      true|\n",
      "|   Rivendell|a84cd524| a9788733|    08ca0600|  43179|7/14/2019 6:13:04 AM|7/14/2019 6:47:53 AM|       0.0|        11.73|     9.47|      true|\n",
      "|   Rivendell|a84ce309| e963f1dc|    3f0ee90c|  43179| 7/1/2019 7:41:33 AM| 7/1/2019 8:00:28 AM|       0.0|         4.96|     1.92|     false|\n",
      "|Minas Tirith|a84ceb22| 8f928bfa|    d0bfc738|  43006|6/30/2019 3:09:18 AM|6/30/2019 3:23:40 AM|       0.0|         4.89|     5.33|      true|\n",
      "|      Gondor|a84d1229| a1ed4df4|    15ea3984|  43050|9/19/2019 9:02:23 PM|9/19/2019 9:18:36 PM|       0.0|         3.53|     5.09|     false|\n",
      "|       Rohan|a84d12f9| 6e04ec35|    4871a6f6|  43116|8/25/2019 10:19:3...|8/25/2019 10:32:1...|       0.0|         5.48|     2.34|      true|\n",
      "|   The Shire|a84d2109| effcb648|    2a87a9d3|  43278|5/16/2019 7:29:44 PM|5/16/2019 7:44:08 PM|       0.0|         3.47|     3.86|     false|\n",
      "|       Rohan|a84d23c2| fd9a3aae|    7f9a1c11|  43116|7/15/2019 8:30:30 AM|7/15/2019 8:56:46 AM|      -0.1|         null|    12.17|     false|\n",
      "|       Rohan|a84d27ba| 3c48ac2b|    b71c48b4|  43116| 5/9/2019 6:08:15 AM| 5/9/2019 6:25:05 AM|       0.2|         4.55|     4.12|     false|\n",
      "|Minas Tirith|a84d29a0| 69be8872|    f37281fe|  43006|8/11/2019 9:49:49 PM|8/11/2019 10:32:2...|       0.0|        28.14|     9.76|      true|\n",
      "|Minas Tirith|a84d31ee| 4f12d410|    b152587c|  43006|7/7/2019 11:53:51 PM|7/8/2019 12:12:26 AM|       0.0|         9.32|     5.14|      true|\n",
      "|   Rivendell|a84d5345| 6ce4136c|    8bfa5340|  43179|9/22/2019 8:40:02 AM|9/22/2019 8:50:16 AM|       0.4|         1.97|     3.84|      true|\n",
      "+------------+--------+---------+------------+-------+--------------------+--------------------+----------+-------------+---------+----------+\n",
      "only showing top 20 rows\n",
      "\n"
     ]
    }
   ],
   "source": [
    "#Create On holiday column\n",
    "#If the value in the day column equal to 1 or 7. It mean weekend = 1,true. If 2=6. It mean weekday = 0,false\n",
    "df_231 = df_231.withColumn(\"Bool\", F.when(df_231.date == 1, 1).when(df_231.date == 7, 1).when((df_231.date > 1) &  (df_231.date <7),0))\n",
    "df_231 = df_231.drop(df_231.date)\n",
    "#Change column name and datatype to BooleanType\n",
    "df_231 = df_231.withColumn(\"Bool\",df_231.Bool.cast(BooleanType()))\n",
    "df_231 = df_231.withColumnRenamed('Bool', 'On holiday')\n",
    "df_231.show()"
   ]
  },
  {
   "cell_type": "code",
   "execution_count": 30,
   "metadata": {},
   "outputs": [
    {
     "name": "stdout",
     "output_type": "stream",
     "text": [
      "+------------+----------+------------------+\n",
      "|        city|On holiday|    avg(trip_fare)|\n",
      "+------------+----------+------------------+\n",
      "|      Gondor|      true| 5.286176159118884|\n",
      "|      Gondor|     false| 5.063437871283693|\n",
      "|    Isengard|     false| 5.429138635957776|\n",
      "|    Isengard|      true|5.7977057073445595|\n",
      "|Minas Tirith|      true| 5.132205116975108|\n",
      "|Minas Tirith|     false| 4.897181695636764|\n",
      "|   Rivendell|      true| 5.689150440097405|\n",
      "|   Rivendell|     false| 5.662984016023205|\n",
      "|       Rohan|     false| 5.211337160029305|\n",
      "|       Rohan|      true| 5.414882787994826|\n",
      "|   The Shire|      true| 5.104217215922054|\n",
      "|   The Shire|     false| 4.948454726841958|\n",
      "+------------+----------+------------------+\n",
      "\n"
     ]
    }
   ],
   "source": [
    "#2.3.2\n",
    "#Using groupby() and avg on trip_fare column than sort at city column\n",
    "df_231.groupBy(\"city\",\"On holiday\").avg(\"trip_fare\").sort(df_231.city, ascending=True).show()"
   ]
  },
  {
   "cell_type": "code",
   "execution_count": 31,
   "metadata": {},
   "outputs": [
    {
     "name": "stdout",
     "output_type": "stream",
     "text": [
      "+------------+----------+------------------+\n",
      "|        city|On holiday|    avg(trip_fare)|\n",
      "+------------+----------+------------------+\n",
      "|      Gondor|     false| 5.063437871283693|\n",
      "|      Gondor|      true| 5.286176159118884|\n",
      "|    Isengard|     false| 5.429138635957776|\n",
      "|    Isengard|      true|5.7977057073445595|\n",
      "|Minas Tirith|      true| 5.132205116975108|\n",
      "|Minas Tirith|     false| 4.897181695636764|\n",
      "|   Rivendell|      true| 5.689150440097405|\n",
      "|   Rivendell|     false| 5.662984016023205|\n",
      "|       Rohan|      true| 5.414882787994826|\n",
      "|       Rohan|     false| 5.211337160029305|\n",
      "|   The Shire|      true| 5.104217215922054|\n",
      "|   The Shire|     false| 4.948454726841958|\n",
      "+------------+----------+------------------+\n",
      "\n"
     ]
    }
   ],
   "source": [
    "#Using spark sql with similar syntax with Dataframes\n",
    "#select only city, On holiday column and avg by trip_fare\n",
    "#group by city and On holiday\n",
    "df_231.createOrReplaceTempView(\"sql_231\")\n",
    "sql_232 = spark.sql('''\n",
    "  SELECT city,`On holiday`,avg(trip_fare)\n",
    "  FROM sql_231   \n",
    "  GROUP BY city,`On holiday`\n",
    "  ORDER BY city\n",
    "''')\n",
    "sql_232.show()"
   ]
  },
  {
   "cell_type": "code",
   "execution_count": 32,
   "metadata": {},
   "outputs": [
    {
     "name": "stdout",
     "output_type": "stream",
     "text": [
      "+------------+--------+---------+------------+-------+--------------------+--------------------+----------+-------------+---------+-------+\n",
      "|        city|      id|driver_id|passenger_id|city_id|           call_time|         finish_time|surge_rate|trip_distance|trip_fare|weekday|\n",
      "+------------+--------+---------+------------+-------+--------------------+--------------------+----------+-------------+---------+-------+\n",
      "|Minas Tirith|a84c0db2| cb64172e|    2ea4359d|  43006|9/8/2019 10:01:28 PM|9/8/2019 10:15:54 PM|       0.3|         1.92|     4.36|    SUN|\n",
      "|Minas Tirith|a84c2d10| 3034e6fe|    e1bd0c8d|  43006| 7/1/2019 8:56:28 PM| 7/1/2019 9:22:09 PM|       0.0|         9.36|     6.91|    MON|\n",
      "|      Gondor|a84c3e75| 93fb6802|    75e6d450|  43050|8/20/2019 9:30:46 PM|8/20/2019 9:46:48 PM|       0.0|         4.39|     3.48|    TUE|\n",
      "|    Isengard|a84c3f6f| 25fc9273|    5ba48e89|  43020| 9/8/2019 2:42:41 AM| 9/8/2019 2:59:56 AM|       0.0|         2.04|     1.54|    SUN|\n",
      "|Minas Tirith|a84c5ce2| 484c4d0c|    fdb2ef59|  43006|6/10/2019 9:29:18 AM|6/10/2019 9:55:36 AM|       0.0|         7.37|     5.83|    MON|\n",
      "+------------+--------+---------+------------+-------+--------------------+--------------------+----------+-------------+---------+-------+\n",
      "only showing top 5 rows\n",
      "\n"
     ]
    }
   ],
   "source": [
    "#2.3.3\n",
    "#Using similar method to 2.3.1\n",
    "extract_year_udf = udf(extract_year)\n",
    "\n",
    "#Call the function and create weekday column\n",
    "df_233 = df_222.select(df_222['*'],extract_year_udf('call_time').alias(\"day\"))\n",
    "df_233 = df_233.withColumn(\"day\", F.regexp_replace(F.regexp_replace(F.regexp_replace(\"day\", \"\\\\]\\\\[\", \"-\"), \"\\\\[\", \"\"), \"\\\\]\", \"\"))\n",
    "df_233 = df_233.withColumn('day', F.regexp_replace('day', '/', '-'))\n",
    "\n",
    "spark.sql(\"set spark.sql.legacy.timeParserPolicy=LEGACY\")\n",
    "#Using to_date function\n",
    "df_233 = df_233.withColumn(\"day\", F.to_date((\"day\"), \"MM-dd-yyyy\"))\n",
    "\n",
    "#Using date_format with E to change int to name of the day\n",
    "#Some part of following code from https://stackoverflow.com/questions/57742725/get-weekday-name-from-date-in-pyspark-python\n",
    "df_233 = df_233.withColumn(\"day\", F.date_format('day','E'))\n",
    "\n",
    "#Using upper to convert all string to uppercase\n",
    "from pyspark.sql.functions import upper\n",
    "df_233 = df_233.select('*',upper('day').alias('weekday')).drop('day')\n",
    "#Show top 5 row\n",
    "df_233.show(5)"
   ]
  },
  {
   "cell_type": "code",
   "execution_count": 33,
   "metadata": {},
   "outputs": [],
   "source": [
    "#2.3.4\n",
    "#Using sql to create table that have total number of trip for each day from each city\n",
    "df_233.createOrReplaceTempView(\"df_233\")\n",
    "sql_t_1 = spark.sql('''\n",
    "  SELECT city,weekday,count(*)\n",
    "  FROM df_233   \n",
    "  GROUP BY city,weekday\n",
    "  ORDER BY city,weekday\n",
    "''')\n",
    "sql_t_1 = sql_t_1.select(sql_t_1[\"city\"],sql_t_1[\"weekday\"],sql_t_1['count(1)'].alias('Count'))"
   ]
  },
  {
   "cell_type": "code",
   "execution_count": 34,
   "metadata": {},
   "outputs": [],
   "source": [
    "#Using sql to create table that have total number of trip for each city\n",
    "sql_t_2 = spark.sql('''\n",
    "  SELECT city,count(*)\n",
    "  FROM df_233   \n",
    "  GROUP BY city\n",
    "  ORDER BY city\n",
    "''')\n",
    "sql_t_2 = sql_t_2.select(sql_t_2[\"city\"].alias('city2'),sql_t_2['count(1)'].alias('Count2'))"
   ]
  },
  {
   "cell_type": "code",
   "execution_count": 35,
   "metadata": {},
   "outputs": [
    {
     "name": "stdout",
     "output_type": "stream",
     "text": [
      "+------------+-------+-----+------------------+\n",
      "|        city|weekday|Count|        Percentage|\n",
      "+------------+-------+-----+------------------+\n",
      "|      Gondor|    FRI|45623|14.324377784545634|\n",
      "|      Gondor|    MON|45502|14.286387084417848|\n",
      "|      Gondor|    SAT|51117|16.049343953984156|\n",
      "|      Gondor|    SUN|52755| 16.56363128298676|\n",
      "|      Gondor|    THU|42607|13.377436035905921|\n",
      "|      Gondor|    TUE|39995| 12.55733926951105|\n",
      "|      Gondor|    WED|40900| 12.84148458864863|\n",
      "|    Isengard|    FRI|49305|14.602485428612047|\n",
      "|    Isengard|    MON|43823| 12.97890110410842|\n",
      "|    Isengard|    SAT|57867|17.138262332369806|\n",
      "|    Isengard|    SUN|55741|16.508612519546983|\n",
      "|    Isengard|    THU|46326|13.720205657963321|\n",
      "|    Isengard|    TUE|41060|12.160593280576222|\n",
      "|    Isengard|    WED|43526|12.890939676823201|\n",
      "|Minas Tirith|    FRI|61216|14.613686007233317|\n",
      "|Minas Tirith|    MON|53856|12.856682462192195|\n",
      "|Minas Tirith|    SAT|69616|16.618961792334595|\n",
      "|Minas Tirith|    SUN|67379|16.084937752897506|\n",
      "|Minas Tirith|    THU|57369| 13.69531744231848|\n",
      "|Minas Tirith|    TUE|53583|12.791510999176406|\n",
      "+------------+-------+-----+------------------+\n",
      "only showing top 20 rows\n",
      "\n"
     ]
    }
   ],
   "source": [
    "#Join both new table\n",
    "df_234 = sql_t_1.join(sql_t_2,sql_t_1.city==sql_t_2.city2,how='outer').drop(sql_t_2.city2)\n",
    "#The percentage will calculate by (total count for each day from each city/total number of trip for each city)*100\n",
    "df_234 = df_234.select('*',((df_234.Count/df_234.Count2)*100).alias('Percentage'))\n",
    "#Select required column and sort by city,weekday\n",
    "df_234 = df_234.select(df_234.city,df_234.weekday,df_234.Count,df_234.Percentage).sort(df_234.city,df_234.weekday, ascending=True)\n",
    "df_234.show()"
   ]
  },
  {
   "cell_type": "code",
   "execution_count": 36,
   "metadata": {},
   "outputs": [
    {
     "data": {
      "text/plain": [
       "(array([0, 1, 2, 3, 4, 5]),\n",
       " [Text(0, 0, 'Gondor'),\n",
       "  Text(1, 0, 'Isengard'),\n",
       "  Text(2, 0, 'Minas Tirith'),\n",
       "  Text(3, 0, 'Rivendell'),\n",
       "  Text(4, 0, 'Rohan'),\n",
       "  Text(5, 0, 'The Shire')])"
      ]
     },
     "execution_count": 36,
     "metadata": {},
     "output_type": "execute_result"
    },
    {
     "data": {
      "image/png": "[encoded data removed]",
      "text/plain": [
       "<Figure size 432x288 with 1 Axes>"
      ]
     },
     "metadata": {
      "needs_background": "light"
     },
     "output_type": "display_data"
    }
   ],
   "source": [
    "#2.3.5\n",
    "#Convert data to pandas library\n",
    "DF_pd = df_234.toPandas()\n",
    "import matplotlib.pyplot as plt\n",
    "#Create bar graph\n",
    "df235 = DF_pd.pivot(index='city', columns='weekday', values='Percentage')\n",
    "df235.plot.bar()\n",
    "plt.legend(title='City', bbox_to_anchor=(1.05, 1), loc='upper left')\n",
    "plt.xlabel('Weekday')\n",
    "plt.ylabel('Percentage')\n",
    "plt.xticks()"
   ]
  },
  {
   "cell_type": "code",
   "execution_count": 37,
   "metadata": {},
   "outputs": [],
   "source": [
    "#All of the city have number of trip at weekend more than weekday.\n",
    "#Monday and tuesday have the least number of trip."
   ]
  },
  {
   "cell_type": "code",
   "execution_count": 38,
   "metadata": {},
   "outputs": [
    {
     "name": "stdout",
     "output_type": "stream",
     "text": [
      "CPU times: user 46.5 ms, sys: 16.3 ms, total: 62.8 ms\n",
      "Wall time: 43.9 s\n"
     ]
    },
    {
     "data": {
      "text/plain": [
       "[('a84d29a0', 'Minas Tirith', '8/11/2019 9:49:49 PM'),\n",
       " ('a8570182', 'Minas Tirith', '7/21/2019 8:45:22 PM'),\n",
       " ('a86b4a74', 'Minas Tirith', '9/2/2019 6:19:24 AM'),\n",
       " ('a871a177', 'Minas Tirith', '8/5/2019 12:58:07 PM'),\n",
       " ('a87acabf', 'Minas Tirith', '9/23/2019 6:26:36 AM')]"
      ]
     },
     "execution_count": 38,
     "metadata": {},
     "output_type": "execute_result"
    }
   ],
   "source": [
    "%%time\n",
    "#3 rdd\n",
    "\n",
    "city_rdd = sc.textFile('data/city.csv')\n",
    "# remove the header row\n",
    "header_city = city_rdd.first()\n",
    "city_rdd1 = city_rdd.filter(lambda x: x != header_city)\n",
    "\n",
    "#Map the data for trip.csv\n",
    "def parseTrip(line):\n",
    "    array_line = line.split(',')\n",
    "    return (array_line[3],array_line[0])\n",
    "\n",
    "map_trip_rdd3 = trip_rdd1.map(parseTrip)\n",
    "\n",
    "\n",
    "#Map the data for city.csv\n",
    "def parseCity(line):\n",
    "    array_line = line.split(',')    \n",
    "    return (array_line[0],array_line[1])\n",
    "\n",
    "map_city_rdd1 = city_rdd1.map(parseCity)\n",
    "#Join the table by first column which is id and city name \n",
    "map_city_rdd1 = map_trip_rdd3.join(map_city_rdd1).map(lambda x: (x[1]))\n",
    "\n",
    "\n",
    "#Map the data that have id and call time column\n",
    "def parseTrip2(line):\n",
    "    array_line = line.split(',')    \n",
    "    return (array_line[0],array_line[4])\n",
    "\n",
    "\n",
    "map_trip_rdd3 = trip_rdd1.map(parseTrip2)\n",
    "\n",
    "#Join the table by first column which is id\n",
    "#Select name and call_time column in lambda\n",
    "map_joined = map_city_rdd1.join(map_trip_rdd3).map(lambda x: (x[0],(x[1][0]),(x[1][1])))\n",
    "map_joined.filter(lambda x: x[1] == 'Minas Tirith').take(5)  "
   ]
  },
  {
   "cell_type": "code",
   "execution_count": 39,
   "metadata": {},
   "outputs": [
    {
     "name": "stdout",
     "output_type": "stream",
     "text": [
      "+--------+------------+--------------------+\n",
      "|      id|        name|           call_time|\n",
      "+--------+------------+--------------------+\n",
      "|a84c0db2|Minas Tirith|9/8/2019 10:01:28 PM|\n",
      "|a84c2d10|Minas Tirith| 7/1/2019 8:56:28 PM|\n",
      "|a84c5ce2|Minas Tirith|6/10/2019 9:29:18 AM|\n",
      "|a84ceb22|Minas Tirith|6/30/2019 3:09:18 AM|\n",
      "|a84d29a0|Minas Tirith|8/11/2019 9:49:49 PM|\n",
      "|a84d31ee|Minas Tirith|7/7/2019 11:53:51 PM|\n",
      "|a84d8d16|Minas Tirith|6/24/2019 7:25:16 AM|\n",
      "|a84dbd8a|Minas Tirith| 7/1/2019 9:56:52 PM|\n",
      "|a84dc20a|Minas Tirith|6/13/2019 2:42:58 AM|\n",
      "|a84dfcb7|Minas Tirith|7/27/2019 6:19:44 PM|\n",
      "|a84f80fa|Minas Tirith| 8/2/2019 8:17:11 PM|\n",
      "|a84fc521|Minas Tirith|5/14/2019 4:48:25 AM|\n",
      "|a850834f|Minas Tirith|7/30/2019 8:37:40 AM|\n",
      "|a850c3de|Minas Tirith|8/12/2019 12:49:3...|\n",
      "|a850de4c|Minas Tirith|6/4/2019 10:49:11 PM|\n",
      "|a851b2b2|Minas Tirith|8/28/2019 10:52:4...|\n",
      "|a8528280|Minas Tirith|8/27/2019 6:51:21 AM|\n",
      "|a852a3b2|Minas Tirith|8/31/2019 4:36:57 AM|\n",
      "|a8530202|Minas Tirith|8/31/2019 8:25:22 AM|\n",
      "|a8537774|Minas Tirith|9/17/2019 2:23:53 AM|\n",
      "+--------+------------+--------------------+\n",
      "only showing top 20 rows\n",
      "\n",
      "CPU times: user 6.41 ms, sys: 220 µs, total: 6.63 ms\n",
      "Wall time: 538 ms\n"
     ]
    }
   ],
   "source": [
    "%%time\n",
    "#3 Dataframes\n",
    "#Using join and identify df_city.city_id==df_trip.city_id\n",
    "df_3 = df_city.join(df_trip,df_city.city_id==df_trip.city_id)\n",
    "#Select only id name and call_time column\n",
    "df_3.select(['id','name','call_time']).filter(df_3['name'] == 'Minas Tirith').show()"
   ]
  },
  {
   "cell_type": "code",
   "execution_count": 40,
   "metadata": {},
   "outputs": [
    {
     "name": "stdout",
     "output_type": "stream",
     "text": [
      "+--------+------------+--------------------+\n",
      "|      id|        name|           call_time|\n",
      "+--------+------------+--------------------+\n",
      "|a84c0db2|Minas Tirith|9/8/2019 10:01:28 PM|\n",
      "|a84c2d10|Minas Tirith| 7/1/2019 8:56:28 PM|\n",
      "|a84c5ce2|Minas Tirith|6/10/2019 9:29:18 AM|\n",
      "|a84ceb22|Minas Tirith|6/30/2019 3:09:18 AM|\n",
      "|a84d29a0|Minas Tirith|8/11/2019 9:49:49 PM|\n",
      "|a84d31ee|Minas Tirith|7/7/2019 11:53:51 PM|\n",
      "|a84d8d16|Minas Tirith|6/24/2019 7:25:16 AM|\n",
      "|a84dbd8a|Minas Tirith| 7/1/2019 9:56:52 PM|\n",
      "|a84dc20a|Minas Tirith|6/13/2019 2:42:58 AM|\n",
      "|a84dfcb7|Minas Tirith|7/27/2019 6:19:44 PM|\n",
      "|a84f80fa|Minas Tirith| 8/2/2019 8:17:11 PM|\n",
      "|a84fc521|Minas Tirith|5/14/2019 4:48:25 AM|\n",
      "|a850834f|Minas Tirith|7/30/2019 8:37:40 AM|\n",
      "|a850c3de|Minas Tirith|8/12/2019 12:49:3...|\n",
      "|a850de4c|Minas Tirith|6/4/2019 10:49:11 PM|\n",
      "|a851b2b2|Minas Tirith|8/28/2019 10:52:4...|\n",
      "|a8528280|Minas Tirith|8/27/2019 6:51:21 AM|\n",
      "|a852a3b2|Minas Tirith|8/31/2019 4:36:57 AM|\n",
      "|a8530202|Minas Tirith|8/31/2019 8:25:22 AM|\n",
      "|a8537774|Minas Tirith|9/17/2019 2:23:53 AM|\n",
      "+--------+------------+--------------------+\n",
      "only showing top 20 rows\n",
      "\n",
      "CPU times: user 2.22 ms, sys: 0 ns, total: 2.22 ms\n",
      "Wall time: 350 ms\n"
     ]
    }
   ],
   "source": [
    "%%time\n",
    "#3 sql\n",
    "#Create tempview\n",
    "df_trip.createOrReplaceTempView(\"df_t\")\n",
    "df_city.createOrReplaceTempView(\"df_c\")\n",
    "#Using left join and identify df_t.city_id==df_c.city_id and sort only 'Minas Tirith' in name\n",
    "sql_3 = spark.sql('''\n",
    "  SELECT id,name,call_time\n",
    "  FROM df_t d LEFT JOIN df_c c   \n",
    "  ON d.city_id=c.city_id\n",
    "  WHERE name == 'Minas Tirith'\n",
    "''')\n",
    "sql_3.show()"
   ]
  },
  {
   "cell_type": "code",
   "execution_count": 41,
   "metadata": {},
   "outputs": [],
   "source": [
    "#the rdd was the slowest with total time 32ms\n",
    "#the sql method was the fastest with 2.02 ms and dataframes method at 6.15 ms still faster than rdd method."
   ]
  }
 ],
 "metadata": {
  "kernelspec": {
   "display_name": "Python 3",
   "language": "python",
   "name": "python3"
  },
  "language_info": {
   "codemirror_mode": {
    "name": "ipython",
    "version": 3
   },
   "file_extension": ".py",
   "mimetype": "text/x-python",
   "name": "python",
   "nbconvert_exporter": "python",
   "pygments_lexer": "ipython3",
   "version": "3.8.2"
  }
 },
 "nbformat": 4,
 "nbformat_minor": 4
}
